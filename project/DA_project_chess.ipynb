{
 "cells": [
  {
   "cell_type": "markdown",
   "metadata": {},
   "source": [
    "# <center>**Chess game- analysis of openings used**</center>\n",
    "<center>Data analytics 2022</center>\n",
    "<center>Made by: Barbara Wąsik, Aneta Walas</center>"
   ]
  },
  {
   "cell_type": "markdown",
   "metadata": {},
   "source": [
    "**Data**\n",
    "\n",
    "In the project we used data which contains over 20 000 chess games (exactly 20 058 games). The set of data was collected from played games on site Lichess.org. The data set was downloaded from Kaggle.com. \n",
    "The data set contains for each played game:\n",
    "- Game ID;\n",
    "- Rated (T/F);\n",
    "- Start Time;\n",
    "- End Time;\n",
    "- Number of Turns;\n",
    "- Game Status;\n",
    "- Winner;\n",
    "- Time Increment;\n",
    "- White Player ID;\n",
    "- White Player Rating;\n",
    "- Black Player ID;\n",
    "- Black Player Rating;\n",
    "- All Moves in Standard Chess Notation;\n",
    "- Opening Eco (Standardised Code for any given opening, list here);\n",
    "- Opening Name;\n",
    "- Opening Ply (Number of moves in the opening phase)"
   ]
  },
  {
   "cell_type": "markdown",
   "metadata": {},
   "source": [
    "**Problem formulation**\n",
    "\n",
    "The problem analyzed in the project focuses on the openings used in a chess games. In the dataset considered, there are more than 300 different openings used by players. The main purpose of the project was to model which openings will be used the most in the upcoming matches. Moreover, the opening used differs regarding its level of difficulty, success rate and overall skills of the player. These are very subjective aspects of every chess game, so there won't be considered while creating a model. But every opening, because of these aspects, has significant influence of the final number of turns used in a match. Because of that fact, the number of turns will be considered in one of the models as a factor, that has effect on the opening used.\n",
    "\n",
    "Created models could be used to verify the most used opening in the chess games for the check mate result. Also, it could also be customized to use for other games that involve 1 on 1 encounter such as computing the likelihood of winning in footbal competition. "
   ]
  },
  {
   "cell_type": "markdown",
   "metadata": {},
   "source": [
    "**Data preparation**"
   ]
  },
  {
   "cell_type": "markdown",
   "metadata": {},
   "source": [
    "Import of the necessary libraries."
   ]
  },
  {
   "cell_type": "code",
   "execution_count": 1,
   "metadata": {},
   "outputs": [],
   "source": [
    "import pandas as pd\n",
    "import matplotlib.pyplot as plt\n",
    "import arviz as az\n",
    "import numpy as np\n",
    "import math\n",
    "import scipy.stats as stats\n",
    "from cmdstanpy import CmdStanModel"
   ]
  },
  {
   "cell_type": "markdown",
   "metadata": {},
   "source": [
    "Read the data about the games/matches from external file."
   ]
  },
  {
   "cell_type": "code",
   "execution_count": 2,
   "metadata": {},
   "outputs": [
    {
     "data": {
      "text/html": [
       "<div>\n",
       "<style scoped>\n",
       "    .dataframe tbody tr th:only-of-type {\n",
       "        vertical-align: middle;\n",
       "    }\n",
       "\n",
       "    .dataframe tbody tr th {\n",
       "        vertical-align: top;\n",
       "    }\n",
       "\n",
       "    .dataframe thead th {\n",
       "        text-align: right;\n",
       "    }\n",
       "</style>\n",
       "<table border=\"1\" class=\"dataframe\">\n",
       "  <thead>\n",
       "    <tr style=\"text-align: right;\">\n",
       "      <th></th>\n",
       "      <th>id</th>\n",
       "      <th>rated</th>\n",
       "      <th>created_at</th>\n",
       "      <th>last_move_at</th>\n",
       "      <th>turns</th>\n",
       "      <th>victory_status</th>\n",
       "      <th>winner</th>\n",
       "      <th>increment_code</th>\n",
       "      <th>white_id</th>\n",
       "      <th>white_rating</th>\n",
       "      <th>black_id</th>\n",
       "      <th>black_rating</th>\n",
       "      <th>moves</th>\n",
       "      <th>opening_eco</th>\n",
       "      <th>opening_name</th>\n",
       "      <th>opening_ply</th>\n",
       "    </tr>\n",
       "  </thead>\n",
       "  <tbody>\n",
       "    <tr>\n",
       "      <th>0</th>\n",
       "      <td>TZJHLljE</td>\n",
       "      <td>False</td>\n",
       "      <td>1.504210e+12</td>\n",
       "      <td>1.504210e+12</td>\n",
       "      <td>13</td>\n",
       "      <td>outoftime</td>\n",
       "      <td>white</td>\n",
       "      <td>15+2</td>\n",
       "      <td>bourgris</td>\n",
       "      <td>1500</td>\n",
       "      <td>a-00</td>\n",
       "      <td>1191</td>\n",
       "      <td>d4 d5 c4 c6 cxd5 e6 dxe6 fxe6 Nf3 Bb4+ Nc3 Ba5...</td>\n",
       "      <td>D10</td>\n",
       "      <td>Slav Defense: Exchange Variation</td>\n",
       "      <td>5</td>\n",
       "    </tr>\n",
       "    <tr>\n",
       "      <th>1</th>\n",
       "      <td>l1NXvwaE</td>\n",
       "      <td>True</td>\n",
       "      <td>1.504130e+12</td>\n",
       "      <td>1.504130e+12</td>\n",
       "      <td>16</td>\n",
       "      <td>resign</td>\n",
       "      <td>black</td>\n",
       "      <td>5+10</td>\n",
       "      <td>a-00</td>\n",
       "      <td>1322</td>\n",
       "      <td>skinnerua</td>\n",
       "      <td>1261</td>\n",
       "      <td>d4 Nc6 e4 e5 f4 f6 dxe5 fxe5 fxe5 Nxe5 Qd4 Nc6...</td>\n",
       "      <td>B00</td>\n",
       "      <td>Nimzowitsch Defense: Kennedy Variation</td>\n",
       "      <td>4</td>\n",
       "    </tr>\n",
       "    <tr>\n",
       "      <th>2</th>\n",
       "      <td>mIICvQHh</td>\n",
       "      <td>True</td>\n",
       "      <td>1.504130e+12</td>\n",
       "      <td>1.504130e+12</td>\n",
       "      <td>61</td>\n",
       "      <td>mate</td>\n",
       "      <td>white</td>\n",
       "      <td>5+10</td>\n",
       "      <td>ischia</td>\n",
       "      <td>1496</td>\n",
       "      <td>a-00</td>\n",
       "      <td>1500</td>\n",
       "      <td>e4 e5 d3 d6 Be3 c6 Be2 b5 Nd2 a5 a4 c5 axb5 Nc...</td>\n",
       "      <td>C20</td>\n",
       "      <td>King's Pawn Game: Leonardis Variation</td>\n",
       "      <td>3</td>\n",
       "    </tr>\n",
       "    <tr>\n",
       "      <th>3</th>\n",
       "      <td>kWKvrqYL</td>\n",
       "      <td>True</td>\n",
       "      <td>1.504110e+12</td>\n",
       "      <td>1.504110e+12</td>\n",
       "      <td>61</td>\n",
       "      <td>mate</td>\n",
       "      <td>white</td>\n",
       "      <td>20+0</td>\n",
       "      <td>daniamurashov</td>\n",
       "      <td>1439</td>\n",
       "      <td>adivanov2009</td>\n",
       "      <td>1454</td>\n",
       "      <td>d4 d5 Nf3 Bf5 Nc3 Nf6 Bf4 Ng4 e3 Nc6 Be2 Qd7 O...</td>\n",
       "      <td>D02</td>\n",
       "      <td>Queen's Pawn Game: Zukertort Variation</td>\n",
       "      <td>3</td>\n",
       "    </tr>\n",
       "    <tr>\n",
       "      <th>4</th>\n",
       "      <td>9tXo1AUZ</td>\n",
       "      <td>True</td>\n",
       "      <td>1.504030e+12</td>\n",
       "      <td>1.504030e+12</td>\n",
       "      <td>95</td>\n",
       "      <td>mate</td>\n",
       "      <td>white</td>\n",
       "      <td>30+3</td>\n",
       "      <td>nik221107</td>\n",
       "      <td>1523</td>\n",
       "      <td>adivanov2009</td>\n",
       "      <td>1469</td>\n",
       "      <td>e4 e5 Nf3 d6 d4 Nc6 d5 Nb4 a3 Na6 Nc3 Be7 b4 N...</td>\n",
       "      <td>C41</td>\n",
       "      <td>Philidor Defense</td>\n",
       "      <td>5</td>\n",
       "    </tr>\n",
       "  </tbody>\n",
       "</table>\n",
       "</div>"
      ],
      "text/plain": [
       "         id  rated    created_at  last_move_at  turns victory_status winner  \\\n",
       "0  TZJHLljE  False  1.504210e+12  1.504210e+12     13      outoftime  white   \n",
       "1  l1NXvwaE   True  1.504130e+12  1.504130e+12     16         resign  black   \n",
       "2  mIICvQHh   True  1.504130e+12  1.504130e+12     61           mate  white   \n",
       "3  kWKvrqYL   True  1.504110e+12  1.504110e+12     61           mate  white   \n",
       "4  9tXo1AUZ   True  1.504030e+12  1.504030e+12     95           mate  white   \n",
       "\n",
       "  increment_code       white_id  white_rating      black_id  black_rating  \\\n",
       "0           15+2       bourgris          1500          a-00          1191   \n",
       "1           5+10           a-00          1322     skinnerua          1261   \n",
       "2           5+10         ischia          1496          a-00          1500   \n",
       "3           20+0  daniamurashov          1439  adivanov2009          1454   \n",
       "4           30+3      nik221107          1523  adivanov2009          1469   \n",
       "\n",
       "                                               moves opening_eco  \\\n",
       "0  d4 d5 c4 c6 cxd5 e6 dxe6 fxe6 Nf3 Bb4+ Nc3 Ba5...         D10   \n",
       "1  d4 Nc6 e4 e5 f4 f6 dxe5 fxe5 fxe5 Nxe5 Qd4 Nc6...         B00   \n",
       "2  e4 e5 d3 d6 Be3 c6 Be2 b5 Nd2 a5 a4 c5 axb5 Nc...         C20   \n",
       "3  d4 d5 Nf3 Bf5 Nc3 Nf6 Bf4 Ng4 e3 Nc6 Be2 Qd7 O...         D02   \n",
       "4  e4 e5 Nf3 d6 d4 Nc6 d5 Nb4 a3 Na6 Nc3 Be7 b4 N...         C41   \n",
       "\n",
       "                             opening_name  opening_ply  \n",
       "0        Slav Defense: Exchange Variation            5  \n",
       "1  Nimzowitsch Defense: Kennedy Variation            4  \n",
       "2   King's Pawn Game: Leonardis Variation            3  \n",
       "3  Queen's Pawn Game: Zukertort Variation            3  \n",
       "4                        Philidor Defense            5  "
      ]
     },
     "execution_count": 2,
     "metadata": {},
     "output_type": "execute_result"
    }
   ],
   "source": [
    "file = 'D:\\Studia\\ProjektDA\\games.csv'\n",
    "games = pd.read_csv(file)\n",
    "games.head()"
   ]
  },
  {
   "cell_type": "markdown",
   "metadata": {},
   "source": [
    "In order to use data in convenient way, we applied mapping of the opening code names to numbers. \n",
    "\n",
    "The ECO Codes is a classification system for the chess openings moves. So each ECO Code is mapped to number. In the example below we can see what under the column opening_eco each unique openning has mapped a number."
   ]
  },
  {
   "cell_type": "code",
   "execution_count": 3,
   "metadata": {},
   "outputs": [
    {
     "data": {
      "text/html": [
       "<div>\n",
       "<style scoped>\n",
       "    .dataframe tbody tr th:only-of-type {\n",
       "        vertical-align: middle;\n",
       "    }\n",
       "\n",
       "    .dataframe tbody tr th {\n",
       "        vertical-align: top;\n",
       "    }\n",
       "\n",
       "    .dataframe thead th {\n",
       "        text-align: right;\n",
       "    }\n",
       "</style>\n",
       "<table border=\"1\" class=\"dataframe\">\n",
       "  <thead>\n",
       "    <tr style=\"text-align: right;\">\n",
       "      <th></th>\n",
       "      <th>id</th>\n",
       "      <th>rated</th>\n",
       "      <th>created_at</th>\n",
       "      <th>last_move_at</th>\n",
       "      <th>turns</th>\n",
       "      <th>victory_status</th>\n",
       "      <th>winner</th>\n",
       "      <th>increment_code</th>\n",
       "      <th>white_id</th>\n",
       "      <th>white_rating</th>\n",
       "      <th>black_id</th>\n",
       "      <th>black_rating</th>\n",
       "      <th>moves</th>\n",
       "      <th>opening_eco</th>\n",
       "      <th>opening_name</th>\n",
       "      <th>opening_ply</th>\n",
       "    </tr>\n",
       "  </thead>\n",
       "  <tbody>\n",
       "    <tr>\n",
       "      <th>0</th>\n",
       "      <td>TZJHLljE</td>\n",
       "      <td>False</td>\n",
       "      <td>1.504210e+12</td>\n",
       "      <td>1.504210e+12</td>\n",
       "      <td>13</td>\n",
       "      <td>outoftime</td>\n",
       "      <td>white</td>\n",
       "      <td>15+2</td>\n",
       "      <td>bourgris</td>\n",
       "      <td>1500</td>\n",
       "      <td>a-00</td>\n",
       "      <td>1191</td>\n",
       "      <td>d4 d5 c4 c6 cxd5 e6 dxe6 fxe6 Nf3 Bb4+ Nc3 Ba5...</td>\n",
       "      <td>0</td>\n",
       "      <td>Slav Defense: Exchange Variation</td>\n",
       "      <td>5</td>\n",
       "    </tr>\n",
       "    <tr>\n",
       "      <th>1</th>\n",
       "      <td>l1NXvwaE</td>\n",
       "      <td>True</td>\n",
       "      <td>1.504130e+12</td>\n",
       "      <td>1.504130e+12</td>\n",
       "      <td>16</td>\n",
       "      <td>resign</td>\n",
       "      <td>black</td>\n",
       "      <td>5+10</td>\n",
       "      <td>a-00</td>\n",
       "      <td>1322</td>\n",
       "      <td>skinnerua</td>\n",
       "      <td>1261</td>\n",
       "      <td>d4 Nc6 e4 e5 f4 f6 dxe5 fxe5 fxe5 Nxe5 Qd4 Nc6...</td>\n",
       "      <td>1</td>\n",
       "      <td>Nimzowitsch Defense: Kennedy Variation</td>\n",
       "      <td>4</td>\n",
       "    </tr>\n",
       "    <tr>\n",
       "      <th>2</th>\n",
       "      <td>mIICvQHh</td>\n",
       "      <td>True</td>\n",
       "      <td>1.504130e+12</td>\n",
       "      <td>1.504130e+12</td>\n",
       "      <td>61</td>\n",
       "      <td>mate</td>\n",
       "      <td>white</td>\n",
       "      <td>5+10</td>\n",
       "      <td>ischia</td>\n",
       "      <td>1496</td>\n",
       "      <td>a-00</td>\n",
       "      <td>1500</td>\n",
       "      <td>e4 e5 d3 d6 Be3 c6 Be2 b5 Nd2 a5 a4 c5 axb5 Nc...</td>\n",
       "      <td>2</td>\n",
       "      <td>King's Pawn Game: Leonardis Variation</td>\n",
       "      <td>3</td>\n",
       "    </tr>\n",
       "    <tr>\n",
       "      <th>3</th>\n",
       "      <td>kWKvrqYL</td>\n",
       "      <td>True</td>\n",
       "      <td>1.504110e+12</td>\n",
       "      <td>1.504110e+12</td>\n",
       "      <td>61</td>\n",
       "      <td>mate</td>\n",
       "      <td>white</td>\n",
       "      <td>20+0</td>\n",
       "      <td>daniamurashov</td>\n",
       "      <td>1439</td>\n",
       "      <td>adivanov2009</td>\n",
       "      <td>1454</td>\n",
       "      <td>d4 d5 Nf3 Bf5 Nc3 Nf6 Bf4 Ng4 e3 Nc6 Be2 Qd7 O...</td>\n",
       "      <td>3</td>\n",
       "      <td>Queen's Pawn Game: Zukertort Variation</td>\n",
       "      <td>3</td>\n",
       "    </tr>\n",
       "    <tr>\n",
       "      <th>4</th>\n",
       "      <td>9tXo1AUZ</td>\n",
       "      <td>True</td>\n",
       "      <td>1.504030e+12</td>\n",
       "      <td>1.504030e+12</td>\n",
       "      <td>95</td>\n",
       "      <td>mate</td>\n",
       "      <td>white</td>\n",
       "      <td>30+3</td>\n",
       "      <td>nik221107</td>\n",
       "      <td>1523</td>\n",
       "      <td>adivanov2009</td>\n",
       "      <td>1469</td>\n",
       "      <td>e4 e5 Nf3 d6 d4 Nc6 d5 Nb4 a3 Na6 Nc3 Be7 b4 N...</td>\n",
       "      <td>4</td>\n",
       "      <td>Philidor Defense</td>\n",
       "      <td>5</td>\n",
       "    </tr>\n",
       "  </tbody>\n",
       "</table>\n",
       "</div>"
      ],
      "text/plain": [
       "         id  rated    created_at  last_move_at  turns victory_status winner  \\\n",
       "0  TZJHLljE  False  1.504210e+12  1.504210e+12     13      outoftime  white   \n",
       "1  l1NXvwaE   True  1.504130e+12  1.504130e+12     16         resign  black   \n",
       "2  mIICvQHh   True  1.504130e+12  1.504130e+12     61           mate  white   \n",
       "3  kWKvrqYL   True  1.504110e+12  1.504110e+12     61           mate  white   \n",
       "4  9tXo1AUZ   True  1.504030e+12  1.504030e+12     95           mate  white   \n",
       "\n",
       "  increment_code       white_id  white_rating      black_id  black_rating  \\\n",
       "0           15+2       bourgris          1500          a-00          1191   \n",
       "1           5+10           a-00          1322     skinnerua          1261   \n",
       "2           5+10         ischia          1496          a-00          1500   \n",
       "3           20+0  daniamurashov          1439  adivanov2009          1454   \n",
       "4           30+3      nik221107          1523  adivanov2009          1469   \n",
       "\n",
       "                                               moves  opening_eco  \\\n",
       "0  d4 d5 c4 c6 cxd5 e6 dxe6 fxe6 Nf3 Bb4+ Nc3 Ba5...            0   \n",
       "1  d4 Nc6 e4 e5 f4 f6 dxe5 fxe5 fxe5 Nxe5 Qd4 Nc6...            1   \n",
       "2  e4 e5 d3 d6 Be3 c6 Be2 b5 Nd2 a5 a4 c5 axb5 Nc...            2   \n",
       "3  d4 d5 Nf3 Bf5 Nc3 Nf6 Bf4 Ng4 e3 Nc6 Be2 Qd7 O...            3   \n",
       "4  e4 e5 Nf3 d6 d4 Nc6 d5 Nb4 a3 Na6 Nc3 Be7 b4 N...            4   \n",
       "\n",
       "                             opening_name  opening_ply  \n",
       "0        Slav Defense: Exchange Variation            5  \n",
       "1  Nimzowitsch Defense: Kennedy Variation            4  \n",
       "2   King's Pawn Game: Leonardis Variation            3  \n",
       "3  Queen's Pawn Game: Zukertort Variation            3  \n",
       "4                        Philidor Defense            5  "
      ]
     },
     "execution_count": 3,
     "metadata": {},
     "output_type": "execute_result"
    }
   ],
   "source": [
    "l = games['opening_eco'].unique()\n",
    "val = {}\n",
    "for x in range(len(games['opening_eco'].unique())):\n",
    "    val[l[x]] = x\n",
    "\n",
    "\n",
    "games['opening_eco'] = games['opening_eco'].map(val)\n",
    "opening_e = games[['opening_eco']]\n",
    "\n",
    "games.head()"
   ]
  },
  {
   "cell_type": "code",
   "execution_count": 4,
   "metadata": {},
   "outputs": [
    {
     "data": {
      "text/plain": [
       "Text(0.5, 1.0, 'Openings used in games- codes')"
      ]
     },
     "execution_count": 4,
     "metadata": {},
     "output_type": "execute_result"
    },
    {
     "data": {
      "image/png": "[encoded data removed]",
      "text/plain": [
       "<Figure size 432x288 with 1 Axes>"
      ]
     },
     "metadata": {
      "needs_background": "light"
     },
     "output_type": "display_data"
    }
   ],
   "source": [
    "opening_e.hist(bins='auto')\n",
    "plt.yticks([])\n",
    "plt.title('Openings used in games- codes')"
   ]
  },
  {
   "cell_type": "markdown",
   "metadata": {},
   "source": [
    "We decided to use only this part of the data in our computations which included games won by **mate**. In order to do this, we applied filtering data based on openings used depending on the result of a match - **mate**. Now the data set contains **6325** played games. Below there is shown the table which contains the data which we will use in computations for our two models."
   ]
  },
  {
   "cell_type": "code",
   "execution_count": 5,
   "metadata": {},
   "outputs": [
    {
     "data": {
      "text/html": [
       "<div>\n",
       "<style scoped>\n",
       "    .dataframe tbody tr th:only-of-type {\n",
       "        vertical-align: middle;\n",
       "    }\n",
       "\n",
       "    .dataframe tbody tr th {\n",
       "        vertical-align: top;\n",
       "    }\n",
       "\n",
       "    .dataframe thead th {\n",
       "        text-align: right;\n",
       "    }\n",
       "</style>\n",
       "<table border=\"1\" class=\"dataframe\">\n",
       "  <thead>\n",
       "    <tr style=\"text-align: right;\">\n",
       "      <th></th>\n",
       "      <th>id</th>\n",
       "      <th>turns</th>\n",
       "      <th>victory_status</th>\n",
       "      <th>opening_eco</th>\n",
       "    </tr>\n",
       "  </thead>\n",
       "  <tbody>\n",
       "    <tr>\n",
       "      <th>2</th>\n",
       "      <td>mIICvQHh</td>\n",
       "      <td>61</td>\n",
       "      <td>mate</td>\n",
       "      <td>2</td>\n",
       "    </tr>\n",
       "    <tr>\n",
       "      <th>3</th>\n",
       "      <td>kWKvrqYL</td>\n",
       "      <td>61</td>\n",
       "      <td>mate</td>\n",
       "      <td>3</td>\n",
       "    </tr>\n",
       "    <tr>\n",
       "      <th>4</th>\n",
       "      <td>9tXo1AUZ</td>\n",
       "      <td>95</td>\n",
       "      <td>mate</td>\n",
       "      <td>4</td>\n",
       "    </tr>\n",
       "    <tr>\n",
       "      <th>9</th>\n",
       "      <td>afoMwnLg</td>\n",
       "      <td>119</td>\n",
       "      <td>mate</td>\n",
       "      <td>8</td>\n",
       "    </tr>\n",
       "    <tr>\n",
       "      <th>10</th>\n",
       "      <td>HgKLWPsz</td>\n",
       "      <td>39</td>\n",
       "      <td>mate</td>\n",
       "      <td>9</td>\n",
       "    </tr>\n",
       "  </tbody>\n",
       "</table>\n",
       "</div>"
      ],
      "text/plain": [
       "          id  turns victory_status  opening_eco\n",
       "2   mIICvQHh     61           mate            2\n",
       "3   kWKvrqYL     61           mate            3\n",
       "4   9tXo1AUZ     95           mate            4\n",
       "9   afoMwnLg    119           mate            8\n",
       "10  HgKLWPsz     39           mate            9"
      ]
     },
     "execution_count": 5,
     "metadata": {},
     "output_type": "execute_result"
    }
   ],
   "source": [
    "mate = games[games.victory_status == 'mate']\n",
    "mate[['id','turns','victory_status','opening_eco']].head()"
   ]
  },
  {
   "cell_type": "markdown",
   "metadata": {},
   "source": [
    "In order to better visualize the distribustion of opening plays we counted how many times each openning occured."
   ]
  },
  {
   "cell_type": "code",
   "execution_count": 6,
   "metadata": {},
   "outputs": [
    {
     "data": {
      "image/png": "[encoded data removed]",
      "text/plain": [
       "<Figure size 720x720 with 1 Axes>"
      ]
     },
     "metadata": {
      "needs_background": "light"
     },
     "output_type": "display_data"
    }
   ],
   "source": [
    "mate_plot = mate['opening_eco'].value_counts().sort_index()\n",
    "\n",
    "mate_plot.plot(kind='bar',figsize=(10,10))\n",
    "plt.xticks(np.arange(-5,362,10))\n",
    "plt.grid()\n",
    "plt.title('Distribution of openings played')\n",
    "plt.show()"
   ]
  },
  {
   "cell_type": "code",
   "execution_count": 7,
   "metadata": {},
   "outputs": [
    {
     "data": {
      "image/png": "[encoded data removed]",
      "text/plain": [
       "<Figure size 432x288 with 1 Axes>"
      ]
     },
     "metadata": {
      "needs_background": "light"
     },
     "output_type": "display_data"
    }
   ],
   "source": [
    "plt.hist(mate['opening_eco'],bins=50)\n",
    "plt.yticks([])\n",
    "plt.grid()\n",
    "plt.title('Histogram of openings played')\n",
    "plt.show()"
   ]
  },
  {
   "cell_type": "markdown",
   "metadata": {},
   "source": [
    "As white and black pawns won different number of games and because white pawns always start the game, there was a decision to split data for analysis depending on the winner."
   ]
  },
  {
   "cell_type": "code",
   "execution_count": 51,
   "metadata": {},
   "outputs": [
    {
     "data": {
      "text/html": [
       "<div>\n",
       "<style scoped>\n",
       "    .dataframe tbody tr th:only-of-type {\n",
       "        vertical-align: middle;\n",
       "    }\n",
       "\n",
       "    .dataframe tbody tr th {\n",
       "        vertical-align: top;\n",
       "    }\n",
       "\n",
       "    .dataframe thead th {\n",
       "        text-align: right;\n",
       "    }\n",
       "</style>\n",
       "<table border=\"1\" class=\"dataframe\">\n",
       "  <thead>\n",
       "    <tr style=\"text-align: right;\">\n",
       "      <th></th>\n",
       "      <th>id</th>\n",
       "      <th>rated</th>\n",
       "      <th>created_at</th>\n",
       "      <th>last_move_at</th>\n",
       "      <th>turns</th>\n",
       "      <th>victory_status</th>\n",
       "      <th>winner</th>\n",
       "      <th>increment_code</th>\n",
       "      <th>white_id</th>\n",
       "      <th>white_rating</th>\n",
       "      <th>black_id</th>\n",
       "      <th>black_rating</th>\n",
       "      <th>moves</th>\n",
       "      <th>opening_eco</th>\n",
       "      <th>opening_name</th>\n",
       "      <th>opening_ply</th>\n",
       "    </tr>\n",
       "  </thead>\n",
       "  <tbody>\n",
       "    <tr>\n",
       "      <th>2</th>\n",
       "      <td>mIICvQHh</td>\n",
       "      <td>True</td>\n",
       "      <td>1.504130e+12</td>\n",
       "      <td>1.504130e+12</td>\n",
       "      <td>61</td>\n",
       "      <td>mate</td>\n",
       "      <td>white</td>\n",
       "      <td>5+10</td>\n",
       "      <td>ischia</td>\n",
       "      <td>1496</td>\n",
       "      <td>a-00</td>\n",
       "      <td>1500</td>\n",
       "      <td>e4 e5 d3 d6 Be3 c6 Be2 b5 Nd2 a5 a4 c5 axb5 Nc...</td>\n",
       "      <td>2</td>\n",
       "      <td>King's Pawn Game: Leonardis Variation</td>\n",
       "      <td>3</td>\n",
       "    </tr>\n",
       "    <tr>\n",
       "      <th>3</th>\n",
       "      <td>kWKvrqYL</td>\n",
       "      <td>True</td>\n",
       "      <td>1.504110e+12</td>\n",
       "      <td>1.504110e+12</td>\n",
       "      <td>61</td>\n",
       "      <td>mate</td>\n",
       "      <td>white</td>\n",
       "      <td>20+0</td>\n",
       "      <td>daniamurashov</td>\n",
       "      <td>1439</td>\n",
       "      <td>adivanov2009</td>\n",
       "      <td>1454</td>\n",
       "      <td>d4 d5 Nf3 Bf5 Nc3 Nf6 Bf4 Ng4 e3 Nc6 Be2 Qd7 O...</td>\n",
       "      <td>3</td>\n",
       "      <td>Queen's Pawn Game: Zukertort Variation</td>\n",
       "      <td>3</td>\n",
       "    </tr>\n",
       "    <tr>\n",
       "      <th>4</th>\n",
       "      <td>9tXo1AUZ</td>\n",
       "      <td>True</td>\n",
       "      <td>1.504030e+12</td>\n",
       "      <td>1.504030e+12</td>\n",
       "      <td>95</td>\n",
       "      <td>mate</td>\n",
       "      <td>white</td>\n",
       "      <td>30+3</td>\n",
       "      <td>nik221107</td>\n",
       "      <td>1523</td>\n",
       "      <td>adivanov2009</td>\n",
       "      <td>1469</td>\n",
       "      <td>e4 e5 Nf3 d6 d4 Nc6 d5 Nb4 a3 Na6 Nc3 Be7 b4 N...</td>\n",
       "      <td>4</td>\n",
       "      <td>Philidor Defense</td>\n",
       "      <td>5</td>\n",
       "    </tr>\n",
       "    <tr>\n",
       "      <th>9</th>\n",
       "      <td>afoMwnLg</td>\n",
       "      <td>True</td>\n",
       "      <td>1.503440e+12</td>\n",
       "      <td>1.503440e+12</td>\n",
       "      <td>119</td>\n",
       "      <td>mate</td>\n",
       "      <td>white</td>\n",
       "      <td>10+0</td>\n",
       "      <td>daniel_likes_chess</td>\n",
       "      <td>1381</td>\n",
       "      <td>mirco25</td>\n",
       "      <td>1209</td>\n",
       "      <td>e4 d5 exd5 Qxd5 Nc3 Qe5+ Be2 Na6 d4 Qf5 Bxa6 b...</td>\n",
       "      <td>8</td>\n",
       "      <td>Scandinavian Defense: Mieses-Kotroc Variation</td>\n",
       "      <td>4</td>\n",
       "    </tr>\n",
       "    <tr>\n",
       "      <th>10</th>\n",
       "      <td>HgKLWPsz</td>\n",
       "      <td>False</td>\n",
       "      <td>1.503350e+12</td>\n",
       "      <td>1.503350e+12</td>\n",
       "      <td>39</td>\n",
       "      <td>mate</td>\n",
       "      <td>white</td>\n",
       "      <td>20+60</td>\n",
       "      <td>daniel_likes_chess</td>\n",
       "      <td>1381</td>\n",
       "      <td>anaissac</td>\n",
       "      <td>1272</td>\n",
       "      <td>e3 e6 d4 d6 Bd3 c6 Nf3 Be7 Nc3 Nf6 Bd2 Bd7 Qe2...</td>\n",
       "      <td>9</td>\n",
       "      <td>Van't Kruijs Opening</td>\n",
       "      <td>1</td>\n",
       "    </tr>\n",
       "  </tbody>\n",
       "</table>\n",
       "</div>"
      ],
      "text/plain": [
       "          id  rated    created_at  last_move_at  turns victory_status winner  \\\n",
       "2   mIICvQHh   True  1.504130e+12  1.504130e+12     61           mate  white   \n",
       "3   kWKvrqYL   True  1.504110e+12  1.504110e+12     61           mate  white   \n",
       "4   9tXo1AUZ   True  1.504030e+12  1.504030e+12     95           mate  white   \n",
       "9   afoMwnLg   True  1.503440e+12  1.503440e+12    119           mate  white   \n",
       "10  HgKLWPsz  False  1.503350e+12  1.503350e+12     39           mate  white   \n",
       "\n",
       "   increment_code            white_id  white_rating      black_id  \\\n",
       "2            5+10              ischia          1496          a-00   \n",
       "3            20+0       daniamurashov          1439  adivanov2009   \n",
       "4            30+3           nik221107          1523  adivanov2009   \n",
       "9            10+0  daniel_likes_chess          1381       mirco25   \n",
       "10          20+60  daniel_likes_chess          1381      anaissac   \n",
       "\n",
       "    black_rating                                              moves  \\\n",
       "2           1500  e4 e5 d3 d6 Be3 c6 Be2 b5 Nd2 a5 a4 c5 axb5 Nc...   \n",
       "3           1454  d4 d5 Nf3 Bf5 Nc3 Nf6 Bf4 Ng4 e3 Nc6 Be2 Qd7 O...   \n",
       "4           1469  e4 e5 Nf3 d6 d4 Nc6 d5 Nb4 a3 Na6 Nc3 Be7 b4 N...   \n",
       "9           1209  e4 d5 exd5 Qxd5 Nc3 Qe5+ Be2 Na6 d4 Qf5 Bxa6 b...   \n",
       "10          1272  e3 e6 d4 d6 Bd3 c6 Nf3 Be7 Nc3 Nf6 Bd2 Bd7 Qe2...   \n",
       "\n",
       "    opening_eco                                   opening_name  opening_ply  \n",
       "2             2          King's Pawn Game: Leonardis Variation            3  \n",
       "3             3         Queen's Pawn Game: Zukertort Variation            3  \n",
       "4             4                               Philidor Defense            5  \n",
       "9             8  Scandinavian Defense: Mieses-Kotroc Variation            4  \n",
       "10            9                           Van't Kruijs Opening            1  "
      ]
     },
     "execution_count": 51,
     "metadata": {},
     "output_type": "execute_result"
    }
   ],
   "source": [
    "white = mate[mate['winner']=='white']\n",
    "white.head()\n"
   ]
  },
  {
   "cell_type": "code",
   "execution_count": 52,
   "metadata": {},
   "outputs": [
    {
     "data": {
      "image/png": "[encoded data removed]",
      "text/plain": [
       "<Figure size 720x720 with 1 Axes>"
      ]
     },
     "metadata": {
      "needs_background": "light"
     },
     "output_type": "display_data"
    }
   ],
   "source": [
    "white_mate_plot = white['opening_eco'].value_counts().sort_index()\n",
    "\n",
    "white_mate_plot.plot(kind='bar',figsize=(10,10))\n",
    "plt.xticks(np.arange(-5,362,10))\n",
    "plt.grid()\n",
    "plt.title('Distribution of openings played for white player winners')\n",
    "plt.show()"
   ]
  },
  {
   "cell_type": "code",
   "execution_count": 53,
   "metadata": {},
   "outputs": [
    {
     "data": {
      "text/html": [
       "<div>\n",
       "<style scoped>\n",
       "    .dataframe tbody tr th:only-of-type {\n",
       "        vertical-align: middle;\n",
       "    }\n",
       "\n",
       "    .dataframe tbody tr th {\n",
       "        vertical-align: top;\n",
       "    }\n",
       "\n",
       "    .dataframe thead th {\n",
       "        text-align: right;\n",
       "    }\n",
       "</style>\n",
       "<table border=\"1\" class=\"dataframe\">\n",
       "  <thead>\n",
       "    <tr style=\"text-align: right;\">\n",
       "      <th></th>\n",
       "      <th>id</th>\n",
       "      <th>rated</th>\n",
       "      <th>created_at</th>\n",
       "      <th>last_move_at</th>\n",
       "      <th>turns</th>\n",
       "      <th>victory_status</th>\n",
       "      <th>winner</th>\n",
       "      <th>increment_code</th>\n",
       "      <th>white_id</th>\n",
       "      <th>white_rating</th>\n",
       "      <th>black_id</th>\n",
       "      <th>black_rating</th>\n",
       "      <th>moves</th>\n",
       "      <th>opening_eco</th>\n",
       "      <th>opening_name</th>\n",
       "      <th>opening_ply</th>\n",
       "    </tr>\n",
       "  </thead>\n",
       "  <tbody>\n",
       "    <tr>\n",
       "      <th>17</th>\n",
       "      <td>EwaK0IsE</td>\n",
       "      <td>False</td>\n",
       "      <td>1.504010e+12</td>\n",
       "      <td>1.504010e+12</td>\n",
       "      <td>66</td>\n",
       "      <td>mate</td>\n",
       "      <td>black</td>\n",
       "      <td>15+16</td>\n",
       "      <td>sureka_akshat</td>\n",
       "      <td>1141</td>\n",
       "      <td>shivangithegenius</td>\n",
       "      <td>1094</td>\n",
       "      <td>e4 e5 Nf3 Nc6 Bc4 Nf6 Nc3 Bc5 O-O O-O Ne1 Ne8 ...</td>\n",
       "      <td>7</td>\n",
       "      <td>Four Knights Game: Italian Variation</td>\n",
       "      <td>8</td>\n",
       "    </tr>\n",
       "    <tr>\n",
       "      <th>27</th>\n",
       "      <td>srz9QfSN</td>\n",
       "      <td>True</td>\n",
       "      <td>1.502780e+12</td>\n",
       "      <td>1.502780e+12</td>\n",
       "      <td>54</td>\n",
       "      <td>mate</td>\n",
       "      <td>black</td>\n",
       "      <td>10+10</td>\n",
       "      <td>mannat1</td>\n",
       "      <td>1328</td>\n",
       "      <td>shivangithegenius</td>\n",
       "      <td>1038</td>\n",
       "      <td>d4 d5 Nc3 Nf6 Nf3 Nc6 e3 Bf5 h4 e6 g3 Bb4 a3 B...</td>\n",
       "      <td>18</td>\n",
       "      <td>Queen's Pawn Game: Chigorin Variation</td>\n",
       "      <td>4</td>\n",
       "    </tr>\n",
       "    <tr>\n",
       "      <th>29</th>\n",
       "      <td>M3vpf2Ki</td>\n",
       "      <td>True</td>\n",
       "      <td>1.502780e+12</td>\n",
       "      <td>1.502780e+12</td>\n",
       "      <td>66</td>\n",
       "      <td>mate</td>\n",
       "      <td>black</td>\n",
       "      <td>10+10</td>\n",
       "      <td>shivangithegenius</td>\n",
       "      <td>1077</td>\n",
       "      <td>chinmaysharma</td>\n",
       "      <td>1148</td>\n",
       "      <td>d4 d5 c4 Nf6 Nc3 Nc6 Nf3 e6 e3 Bd6 Bd3 Ne4 Bxe...</td>\n",
       "      <td>20</td>\n",
       "      <td>Queen's Gambit Refused: Marshall Defense</td>\n",
       "      <td>4</td>\n",
       "    </tr>\n",
       "    <tr>\n",
       "      <th>31</th>\n",
       "      <td>DiCTkvZH</td>\n",
       "      <td>True</td>\n",
       "      <td>1.502780e+12</td>\n",
       "      <td>1.502780e+12</td>\n",
       "      <td>64</td>\n",
       "      <td>mate</td>\n",
       "      <td>black</td>\n",
       "      <td>10+10</td>\n",
       "      <td>rv0209</td>\n",
       "      <td>1200</td>\n",
       "      <td>shivangithegenius</td>\n",
       "      <td>1002</td>\n",
       "      <td>e4 c5 Nf3 d6 Bb5+ Bd7 Bxd7+ Nxd7 O-O Ngf6 Nc3 ...</td>\n",
       "      <td>21</td>\n",
       "      <td>Sicilian Defense: Canal Attack |  Main Line</td>\n",
       "      <td>6</td>\n",
       "    </tr>\n",
       "    <tr>\n",
       "      <th>64</th>\n",
       "      <td>XuyVUkDi</td>\n",
       "      <td>True</td>\n",
       "      <td>1.503970e+12</td>\n",
       "      <td>1.503970e+12</td>\n",
       "      <td>40</td>\n",
       "      <td>mate</td>\n",
       "      <td>black</td>\n",
       "      <td>5+10</td>\n",
       "      <td>porquepepe</td>\n",
       "      <td>1618</td>\n",
       "      <td>oldpaths</td>\n",
       "      <td>1568</td>\n",
       "      <td>e4 e6 Bc4 d5 exd5 exd5 Bb3 Qe7+ Ne2 Nf6 d4 Nc6...</td>\n",
       "      <td>11</td>\n",
       "      <td>French Defense #2</td>\n",
       "      <td>2</td>\n",
       "    </tr>\n",
       "  </tbody>\n",
       "</table>\n",
       "</div>"
      ],
      "text/plain": [
       "          id  rated    created_at  last_move_at  turns victory_status winner  \\\n",
       "17  EwaK0IsE  False  1.504010e+12  1.504010e+12     66           mate  black   \n",
       "27  srz9QfSN   True  1.502780e+12  1.502780e+12     54           mate  black   \n",
       "29  M3vpf2Ki   True  1.502780e+12  1.502780e+12     66           mate  black   \n",
       "31  DiCTkvZH   True  1.502780e+12  1.502780e+12     64           mate  black   \n",
       "64  XuyVUkDi   True  1.503970e+12  1.503970e+12     40           mate  black   \n",
       "\n",
       "   increment_code           white_id  white_rating           black_id  \\\n",
       "17          15+16      sureka_akshat          1141  shivangithegenius   \n",
       "27          10+10            mannat1          1328  shivangithegenius   \n",
       "29          10+10  shivangithegenius          1077      chinmaysharma   \n",
       "31          10+10             rv0209          1200  shivangithegenius   \n",
       "64           5+10         porquepepe          1618           oldpaths   \n",
       "\n",
       "    black_rating                                              moves  \\\n",
       "17          1094  e4 e5 Nf3 Nc6 Bc4 Nf6 Nc3 Bc5 O-O O-O Ne1 Ne8 ...   \n",
       "27          1038  d4 d5 Nc3 Nf6 Nf3 Nc6 e3 Bf5 h4 e6 g3 Bb4 a3 B...   \n",
       "29          1148  d4 d5 c4 Nf6 Nc3 Nc6 Nf3 e6 e3 Bd6 Bd3 Ne4 Bxe...   \n",
       "31          1002  e4 c5 Nf3 d6 Bb5+ Bd7 Bxd7+ Nxd7 O-O Ngf6 Nc3 ...   \n",
       "64          1568  e4 e6 Bc4 d5 exd5 exd5 Bb3 Qe7+ Ne2 Nf6 d4 Nc6...   \n",
       "\n",
       "    opening_eco                                 opening_name  opening_ply  \n",
       "17            7         Four Knights Game: Italian Variation            8  \n",
       "27           18        Queen's Pawn Game: Chigorin Variation            4  \n",
       "29           20     Queen's Gambit Refused: Marshall Defense            4  \n",
       "31           21  Sicilian Defense: Canal Attack |  Main Line            6  \n",
       "64           11                            French Defense #2            2  "
      ]
     },
     "execution_count": 53,
     "metadata": {},
     "output_type": "execute_result"
    }
   ],
   "source": [
    "\n",
    "black = mate[mate['winner']=='black']\n",
    "black.head()"
   ]
  },
  {
   "cell_type": "code",
   "execution_count": 54,
   "metadata": {},
   "outputs": [
    {
     "data": {
      "image/png": "[encoded data removed]",
      "text/plain": [
       "<Figure size 720x720 with 1 Axes>"
      ]
     },
     "metadata": {
      "needs_background": "light"
     },
     "output_type": "display_data"
    }
   ],
   "source": [
    "black_mate_plot = black['opening_eco'].value_counts().sort_index()\n",
    "\n",
    "black_mate_plot.plot(kind='bar',figsize=(10,10))\n",
    "plt.xticks(np.arange(-5,362,10))\n",
    "plt.grid()\n",
    "plt.title('Distribution of openings played for black player winners')\n",
    "plt.show()"
   ]
  },
  {
   "cell_type": "markdown",
   "metadata": {},
   "source": [
    "# <center>**Model 1**</center>"
   ]
  },
  {
   "cell_type": "markdown",
   "metadata": {},
   "source": [
    "Based on the analysis of the data in the previous section we can observe that the distribution of the usage of specific openings takes the shape similiar to Poisson distribution. Based on that fact in the first model we decided to use Poisson model in which as the parameter lambda was used normal distribution. The values of mu and sigma for the normal distribution have been selected experimentally, what is shown on the figure below."
   ]
  },
  {
   "cell_type": "code",
   "execution_count": 9,
   "metadata": {},
   "outputs": [
    {
     "data": {
      "image/png": "[encoded data removed]",
      "text/plain": [
       "<Figure size 432x288 with 1 Axes>"
      ]
     },
     "metadata": {
      "needs_background": "light"
     },
     "output_type": "display_data"
    }
   ],
   "source": [
    "mu = 0\n",
    "variance = 120\n",
    "sigma = math.sqrt(variance)\n",
    "x = np.linspace(mu - 3*sigma, mu + 3*sigma, 100)\n",
    "\n",
    "plt.plot(x, stats.norm.pdf(x, mu, sigma))\n",
    "plt.grid()\n",
    "plt.show()"
   ]
  },
  {
   "cell_type": "markdown",
   "metadata": {},
   "source": [
    "**Prior predicitive**\n",
    "\n",
    "For prior predictive distribution was created the model that can be found in the file _prior.stan_. The data section has one parameter N, which describes number of games played. Then based on the experimental approach showed above the lambda parameter is calculated as a normal distribution with parameters mu = 0 and vairance = 120. The output y, which represents openings used, is calculated based on the values of parameter lambda as a Poisson distribution."
   ]
  },
  {
   "cell_type": "code",
   "execution_count": 10,
   "metadata": {},
   "outputs": [
    {
     "name": "stdout",
     "output_type": "stream",
     "text": [
      "data {\n",
      "    int N; // number of games\n",
      "}\n",
      "\n",
      "generated quantities {\n",
      "    real lambda = fabs(normal_rng(0,120));\n",
      "    int y[N];\n",
      "    for (k in 1:N) {\n",
      "        y[k] = poisson_rng(lambda);\n",
      "    }\n",
      "}\n"
     ]
    }
   ],
   "source": [
    "with open('prior.stan', 'r') as file:\n",
    "    print(file.read())"
   ]
  },
  {
   "cell_type": "code",
   "execution_count": 11,
   "metadata": {},
   "outputs": [
    {
     "name": "stderr",
     "output_type": "stream",
     "text": [
      "INFO:cmdstanpy:found newer exe file, not recompiling\n",
      "INFO:cmdstanpy:CmdStan start procesing\n",
      "chain 1 |\u001b[34m██████████\u001b[0m| 00:12 Sampling completed                      "
     ]
    },
    {
     "name": "stdout",
     "output_type": "stream",
     "text": [
      "                                                                                "
     ]
    },
    {
     "name": "stderr",
     "output_type": "stream",
     "text": [
      "\n",
      "INFO:cmdstanpy:CmdStan done processing.\n"
     ]
    },
    {
     "name": "stdout",
     "output_type": "stream",
     "text": [
      "\n"
     ]
    }
   ],
   "source": [
    "model1_prior = CmdStanModel(stan_file='D:\\Studia\\ProjektDA\\prior.stan')\n",
    "\n",
    "data1_prior = {'N' : len(mate)}\n",
    "\n",
    "samples1_prior = model1_prior.sample(data=data1_prior,\n",
    "                        fixed_param=True, \n",
    "                        iter_sampling=1000, \n",
    "                        iter_warmup=0, \n",
    "                        chains=1, \n",
    "                        refresh=1000,\n",
    "                        seed=29042020)"
   ]
  },
  {
   "cell_type": "code",
   "execution_count": 12,
   "metadata": {},
   "outputs": [
    {
     "data": {
      "image/png": "[encoded data removed]",
      "text/plain": [
       "<Figure size 432x288 with 1 Axes>"
      ]
     },
     "metadata": {
      "needs_background": "light"
     },
     "output_type": "display_data"
    }
   ],
   "source": [
    "lambda1_prior =samples1_prior.stan_variable('lambda')\n",
    "plt.hist(lambda1_prior,bins=20)\n",
    "plt.yticks([])\n",
    "plt.grid()\n",
    "plt.title('Lambda prior')\n",
    "plt.show()"
   ]
  },
  {
   "cell_type": "code",
   "execution_count": 13,
   "metadata": {},
   "outputs": [
    {
     "data": {
      "image/png": "[encoded data removed]",
      "text/plain": [
       "<Figure size 432x288 with 1 Axes>"
      ]
     },
     "metadata": {
      "needs_background": "light"
     },
     "output_type": "display_data"
    }
   ],
   "source": [
    "y_sim_prior = samples1_prior.stan_variable('y')\n",
    "plt.hist(y_sim_prior.flatten(),bins=20)\n",
    "plt.yticks([])\n",
    "plt.grid()\n",
    "plt.title('Openings prior')\n",
    "plt.show()"
   ]
  },
  {
   "cell_type": "markdown",
   "metadata": {},
   "source": [
    "**Posterior analysis**\n",
    "\n",
    "In this section we introdue a model which we implemented. The model consist of parameters M and y. Where M represents the number of games analyzed and y- number of openings used. The parameters section of the stan model consists of lambda, which is the parameter of Poisson distribution. This parameter is computed based on the previous considerations as a normal distribution with mu = 0 and variance = 120. The number of predicted openings used is computed as a Poisson distribution."
   ]
  },
  {
   "cell_type": "code",
   "execution_count": 14,
   "metadata": {},
   "outputs": [
    {
     "name": "stdout",
     "output_type": "stream",
     "text": [
      "data {\n",
      "  int M; //number of games analyzed\n",
      "  int y[M]; //number of openings\n",
      "}\n",
      "parameters {\n",
      "  real<lower=0>lambda;\n",
      "}\n",
      "model {\n",
      "  lambda ~ normal(0,120);\n",
      "  for (k in 1:M) {\n",
      "    y[k] ~ poisson(lambda);\n",
      "  }\n",
      "}\n",
      "generated quantities {\n",
      "  vector[M] log_lik;\n",
      "  int y_sim[M];\n",
      "  for (k in 1:M) {\n",
      "    log_lik[k]= poisson_lpmf(y[k] | lambda);\n",
      "    y_sim[k] = poisson_rng(lambda);\n",
      "  }\n",
      "}\n"
     ]
    }
   ],
   "source": [
    "with open('model1.stan', 'r') as file:\n",
    "    print(file.read())"
   ]
  },
  {
   "cell_type": "code",
   "execution_count": 15,
   "metadata": {},
   "outputs": [
    {
     "name": "stderr",
     "output_type": "stream",
     "text": [
      "INFO:cmdstanpy:found newer exe file, not recompiling\n",
      "INFO:cmdstanpy:CmdStan start procesing\n",
      "chain 1 |\u001b[33m          \u001b[0m| 00:00 Status\n",
      "\u001b[A\n",
      "\n",
      "chain 1 |\u001b[33m▍         \u001b[0m| 00:00 Status\n",
      "\u001b[A\n",
      "\n",
      "chain 1 |\u001b[33m▉         \u001b[0m| 00:00 Iteration:    1 / 2000 [  0%]  (Warmup)\n",
      "\u001b[A\n",
      "\n",
      "\u001b[A\u001b[A\n",
      "chain 1 |\u001b[33m█▎        \u001b[0m| 00:00 Iteration:  100 / 2000 [  5%]  (Warmup)\n",
      "\n",
      "\u001b[A\u001b[A\n",
      "chain 1 |\u001b[33m█▊        \u001b[0m| 00:00 Iteration:  200 / 2000 [ 10%]  (Warmup)\n",
      "\n",
      "\u001b[A\u001b[A\n",
      "chain 1 |\u001b[33m██▎       \u001b[0m| 00:01 Iteration:  300 / 2000 [ 15%]  (Warmup)\n",
      "\n",
      "\u001b[A\u001b[A\n",
      "chain 1 |\u001b[33m██▋       \u001b[0m| 00:01 Iteration:  400 / 2000 [ 20%]  (Warmup)\n",
      "\n",
      "\u001b[A\u001b[A\n",
      "chain 1 |\u001b[33m███▏      \u001b[0m| 00:01 Iteration:  500 / 2000 [ 25%]  (Warmup)\n",
      "\n",
      "\u001b[A\u001b[A\n",
      "chain 1 |\u001b[33m███▋      \u001b[0m| 00:01 Iteration:  600 / 2000 [ 30%]  (Warmup)\n",
      "\n",
      "\u001b[A\u001b[A\n",
      "chain 1 |\u001b[33m████      \u001b[0m| 00:01 Iteration:  700 / 2000 [ 35%]  (Warmup)\n",
      "\n",
      "\u001b[A\u001b[A\n",
      "chain 1 |\u001b[33m████▌     \u001b[0m| 00:02 Iteration:  800 / 2000 [ 40%]  (Warmup)\n",
      "\n",
      "\u001b[A\u001b[A\n",
      "chain 1 |\u001b[33m█████     \u001b[0m| 00:02 Iteration:  900 / 2000 [ 45%]  (Warmup)\n",
      "\n",
      "\u001b[A\u001b[A\n",
      "chain 1 |\u001b[34m█████▉    \u001b[0m| 00:04 Iteration: 1001 / 2000 [ 50%]  (Sampling)\n",
      "\n",
      "\u001b[A\u001b[A\n",
      "\u001b[A\n",
      "\n",
      "chain 1 |\u001b[34m██████▎   \u001b[0m| 00:06 Iteration: 1100 / 2000 [ 55%]  (Sampling)\n",
      "\u001b[A\n",
      "\n",
      "chain 1 |\u001b[34m██████▊   \u001b[0m| 00:09 Iteration: 1200 / 2000 [ 60%]  (Sampling)\n",
      "\u001b[A\n",
      "\n",
      "chain 1 |\u001b[34m███████▎  \u001b[0m| 00:11 Iteration: 1300 / 2000 [ 65%]  (Sampling)\n",
      "\u001b[A\n",
      "\n",
      "chain 1 |\u001b[34m███████▋  \u001b[0m| 00:13 Iteration: 1400 / 2000 [ 70%]  (Sampling)\n",
      "\u001b[A\n",
      "\n",
      "chain 1 |\u001b[34m████████▏ \u001b[0m| 00:16 Iteration: 1500 / 2000 [ 75%]  (Sampling)\n",
      "\u001b[A\n",
      "\n",
      "chain 1 |\u001b[34m████████▋ \u001b[0m| 00:18 Iteration: 1600 / 2000 [ 80%]  (Sampling)\n",
      "\u001b[A\n",
      "\n",
      "chain 1 |\u001b[34m█████████ \u001b[0m| 00:20 Iteration: 1700 / 2000 [ 85%]  (Sampling)\n",
      "\u001b[A\n",
      "\n",
      "chain 1 |\u001b[34m█████████▌\u001b[0m| 00:22 Iteration: 1800 / 2000 [ 90%]  (Sampling)\n",
      "\u001b[A\n",
      "\n",
      "chain 1 |\u001b[34m██████████\u001b[0m| 00:25 Sampling completed                       \n",
      "chain 2 |\u001b[34m██████████\u001b[0m| 00:25 Sampling completed                       \n",
      "chain 3 |\u001b[34m██████████\u001b[0m| 00:25 Sampling completed                       \n",
      "chain 4 |\u001b[34m██████████\u001b[0m| 00:25 Sampling completed                       "
     ]
    },
    {
     "name": "stdout",
     "output_type": "stream",
     "text": [
      "                                                                                                                                                                                                                                                                                                                                "
     ]
    },
    {
     "name": "stderr",
     "output_type": "stream",
     "text": [
      "\n",
      "INFO:cmdstanpy:CmdStan done processing.\n"
     ]
    },
    {
     "name": "stdout",
     "output_type": "stream",
     "text": [
      "\n"
     ]
    },
    {
     "name": "stderr",
     "output_type": "stream",
     "text": [
      "INFO:cmdstanpy:CmdStan start procesing\n",
      "chain 1 |\u001b[33m          \u001b[0m| 00:00 Status\n",
      "\u001b[A\n",
      "\n",
      "chain 1 |\u001b[33m▉         \u001b[0m| 00:00 Iteration:    1 / 2000 [  0%]  (Warmup)\n",
      "\u001b[A\n",
      "\n",
      "chain 1 |\u001b[33m█▎        \u001b[0m| 00:00 Iteration:  100 / 2000 [  5%]  (Warmup)\n",
      "\n",
      "\u001b[A\u001b[A\n",
      "chain 1 |\u001b[33m█▊        \u001b[0m| 00:00 Iteration:  200 / 2000 [ 10%]  (Warmup)\n",
      "\n",
      "\u001b[A\u001b[A\n",
      "chain 1 |\u001b[33m██▎       \u001b[0m| 00:00 Iteration:  300 / 2000 [ 15%]  (Warmup)\n",
      "\u001b[A\n",
      "\n",
      "chain 1 |\u001b[33m██▋       \u001b[0m| 00:01 Iteration:  400 / 2000 [ 20%]  (Warmup)\n",
      "\u001b[A\n",
      "\n",
      "chain 1 |\u001b[33m███▏      \u001b[0m| 00:01 Iteration:  500 / 2000 [ 25%]  (Warmup)\n",
      "\n",
      "\u001b[A\u001b[A\n",
      "chain 1 |\u001b[33m███▋      \u001b[0m| 00:01 Iteration:  600 / 2000 [ 30%]  (Warmup)\n",
      "\n",
      "\u001b[A\u001b[A\n",
      "chain 1 |\u001b[33m████      \u001b[0m| 00:01 Iteration:  700 / 2000 [ 35%]  (Warmup)\n",
      "\u001b[A\n",
      "\n",
      "chain 1 |\u001b[33m████▌     \u001b[0m| 00:01 Iteration:  800 / 2000 [ 40%]  (Warmup)\n",
      "\u001b[A\n",
      "\n",
      "chain 1 |\u001b[33m█████     \u001b[0m| 00:01 Iteration:  900 / 2000 [ 45%]  (Warmup)\n",
      "\n",
      "\u001b[A\u001b[A\n",
      "chain 1 |\u001b[34m█████▉    \u001b[0m| 00:03 Iteration: 1001 / 2000 [ 50%]  (Sampling)\n",
      "\n",
      "\u001b[A\u001b[A\n",
      "chain 1 |\u001b[34m██████▎   \u001b[0m| 00:05 Iteration: 1100 / 2000 [ 55%]  (Sampling)\n",
      "\n",
      "\u001b[A\u001b[A\n",
      "chain 1 |\u001b[34m██████▊   \u001b[0m| 00:07 Iteration: 1200 / 2000 [ 60%]  (Sampling)\n",
      "\n",
      "\u001b[A\u001b[A\n",
      "chain 1 |\u001b[34m███████▎  \u001b[0m| 00:09 Iteration: 1300 / 2000 [ 65%]  (Sampling)\n",
      "\n",
      "\u001b[A\u001b[A\n",
      "chain 1 |\u001b[34m███████▋  \u001b[0m| 00:11 Iteration: 1400 / 2000 [ 70%]  (Sampling)\n",
      "\n",
      "\u001b[A\u001b[A\n",
      "chain 1 |\u001b[34m████████▏ \u001b[0m| 00:13 Iteration: 1500 / 2000 [ 75%]  (Sampling)\n",
      "\n",
      "\u001b[A\u001b[A\n",
      "chain 1 |\u001b[34m████████▋ \u001b[0m| 00:15 Iteration: 1600 / 2000 [ 80%]  (Sampling)\n",
      "\n",
      "\u001b[A\u001b[A\n",
      "chain 1 |\u001b[34m█████████ \u001b[0m| 00:17 Iteration: 1700 / 2000 [ 85%]  (Sampling)\n",
      "\n",
      "\u001b[A\u001b[A\n",
      "chain 1 |\u001b[34m█████████▌\u001b[0m| 00:19 Iteration: 1800 / 2000 [ 90%]  (Sampling)\n",
      "\n",
      "\u001b[A\u001b[A\n",
      "chain 1 |\u001b[34m██████████\u001b[0m| 00:21 Iteration: 1900 / 2000 [ 95%]  (Sampling)\n",
      "\n",
      "\u001b[A\u001b[A\n",
      "chain 1 |\u001b[34m██████████\u001b[0m| 00:21 Sampling completed                       \n",
      "chain 2 |\u001b[34m██████████\u001b[0m| 00:21 Sampling completed                       \n",
      "chain 3 |\u001b[34m██████████\u001b[0m| 00:21 Sampling completed                       \n",
      "chain 4 |\u001b[34m██████████\u001b[0m| 00:21 Sampling completed                       "
     ]
    },
    {
     "name": "stdout",
     "output_type": "stream",
     "text": [
      "                                                                                                                                                                                                                                                                                                                                "
     ]
    },
    {
     "name": "stderr",
     "output_type": "stream",
     "text": [
      "\n",
      "INFO:cmdstanpy:CmdStan done processing.\n"
     ]
    },
    {
     "name": "stdout",
     "output_type": "stream",
     "text": [
      "\n"
     ]
    }
   ],
   "source": [
    "model1_post = CmdStanModel(stan_file='D:\\Studia\\ProjektDA\\model1.stan')\n",
    "\n",
    "data1_post_white = {'M' : len(white), 'y' : white['opening_eco'].values}\n",
    "data1_post_black = {'M' : len(black), 'y' : black['opening_eco'].values}\n",
    "\n",
    "samples1_post_white =  model1_post.sample(data = data1_post_white, \n",
    "                            fixed_param = False,\n",
    "                            seed = 8052020)\n",
    "\n",
    "samples1_post_black =  model1_post.sample(data = data1_post_black, \n",
    "                            fixed_param = False,\n",
    "                            seed = 8052020)\n",
    "                            "
   ]
  },
  {
   "cell_type": "code",
   "execution_count": 16,
   "metadata": {},
   "outputs": [
    {
     "data": {
      "text/html": [
       "<div>\n",
       "<style scoped>\n",
       "    .dataframe tbody tr th:only-of-type {\n",
       "        vertical-align: middle;\n",
       "    }\n",
       "\n",
       "    .dataframe tbody tr th {\n",
       "        vertical-align: top;\n",
       "    }\n",
       "\n",
       "    .dataframe thead th {\n",
       "        text-align: right;\n",
       "    }\n",
       "</style>\n",
       "<table border=\"1\" class=\"dataframe\">\n",
       "  <thead>\n",
       "    <tr style=\"text-align: right;\">\n",
       "      <th></th>\n",
       "      <th>Mean</th>\n",
       "      <th>MCSE</th>\n",
       "      <th>StdDev</th>\n",
       "      <th>5%</th>\n",
       "      <th>50%</th>\n",
       "      <th>95%</th>\n",
       "      <th>N_Eff</th>\n",
       "      <th>N_Eff/s</th>\n",
       "      <th>R_hat</th>\n",
       "    </tr>\n",
       "    <tr>\n",
       "      <th>name</th>\n",
       "      <th></th>\n",
       "      <th></th>\n",
       "      <th></th>\n",
       "      <th></th>\n",
       "      <th></th>\n",
       "      <th></th>\n",
       "      <th></th>\n",
       "      <th></th>\n",
       "      <th></th>\n",
       "    </tr>\n",
       "  </thead>\n",
       "  <tbody>\n",
       "    <tr>\n",
       "      <th>lp__</th>\n",
       "      <td>490000.0</td>\n",
       "      <td>0.0230</td>\n",
       "      <td>0.83</td>\n",
       "      <td>490000.0</td>\n",
       "      <td>490000.0</td>\n",
       "      <td>490000.0</td>\n",
       "      <td>1300.0</td>\n",
       "      <td>14.0</td>\n",
       "      <td>1.0</td>\n",
       "    </tr>\n",
       "    <tr>\n",
       "      <th>lambda</th>\n",
       "      <td>50.0</td>\n",
       "      <td>0.0032</td>\n",
       "      <td>0.12</td>\n",
       "      <td>50.0</td>\n",
       "      <td>50.0</td>\n",
       "      <td>50.0</td>\n",
       "      <td>1400.0</td>\n",
       "      <td>16.0</td>\n",
       "      <td>1.0</td>\n",
       "    </tr>\n",
       "    <tr>\n",
       "      <th>log_lik[1]</th>\n",
       "      <td>-43.0</td>\n",
       "      <td>0.0031</td>\n",
       "      <td>0.12</td>\n",
       "      <td>-43.0</td>\n",
       "      <td>-43.0</td>\n",
       "      <td>-43.0</td>\n",
       "      <td>1440.0</td>\n",
       "      <td>16.0</td>\n",
       "      <td>1.0</td>\n",
       "    </tr>\n",
       "    <tr>\n",
       "      <th>log_lik[2]</th>\n",
       "      <td>-40.0</td>\n",
       "      <td>0.0030</td>\n",
       "      <td>0.11</td>\n",
       "      <td>-40.0</td>\n",
       "      <td>-40.0</td>\n",
       "      <td>-40.0</td>\n",
       "      <td>1440.0</td>\n",
       "      <td>16.0</td>\n",
       "      <td>1.0</td>\n",
       "    </tr>\n",
       "    <tr>\n",
       "      <th>log_lik[3]</th>\n",
       "      <td>-38.0</td>\n",
       "      <td>0.0029</td>\n",
       "      <td>0.11</td>\n",
       "      <td>-38.0</td>\n",
       "      <td>-38.0</td>\n",
       "      <td>-37.0</td>\n",
       "      <td>1440.0</td>\n",
       "      <td>16.0</td>\n",
       "      <td>1.0</td>\n",
       "    </tr>\n",
       "    <tr>\n",
       "      <th>...</th>\n",
       "      <td>...</td>\n",
       "      <td>...</td>\n",
       "      <td>...</td>\n",
       "      <td>...</td>\n",
       "      <td>...</td>\n",
       "      <td>...</td>\n",
       "      <td>...</td>\n",
       "      <td>...</td>\n",
       "      <td>...</td>\n",
       "    </tr>\n",
       "    <tr>\n",
       "      <th>y_sim[3340]</th>\n",
       "      <td>50.0</td>\n",
       "      <td>0.1100</td>\n",
       "      <td>7.10</td>\n",
       "      <td>38.0</td>\n",
       "      <td>50.0</td>\n",
       "      <td>62.0</td>\n",
       "      <td>4016.0</td>\n",
       "      <td>44.0</td>\n",
       "      <td>1.0</td>\n",
       "    </tr>\n",
       "    <tr>\n",
       "      <th>y_sim[3341]</th>\n",
       "      <td>50.0</td>\n",
       "      <td>0.1100</td>\n",
       "      <td>7.00</td>\n",
       "      <td>39.0</td>\n",
       "      <td>50.0</td>\n",
       "      <td>62.0</td>\n",
       "      <td>3888.0</td>\n",
       "      <td>43.0</td>\n",
       "      <td>1.0</td>\n",
       "    </tr>\n",
       "    <tr>\n",
       "      <th>y_sim[3342]</th>\n",
       "      <td>50.0</td>\n",
       "      <td>0.1100</td>\n",
       "      <td>7.10</td>\n",
       "      <td>39.0</td>\n",
       "      <td>50.0</td>\n",
       "      <td>62.0</td>\n",
       "      <td>4061.0</td>\n",
       "      <td>45.0</td>\n",
       "      <td>1.0</td>\n",
       "    </tr>\n",
       "    <tr>\n",
       "      <th>y_sim[3343]</th>\n",
       "      <td>50.0</td>\n",
       "      <td>0.1100</td>\n",
       "      <td>7.10</td>\n",
       "      <td>38.0</td>\n",
       "      <td>50.0</td>\n",
       "      <td>62.0</td>\n",
       "      <td>4054.0</td>\n",
       "      <td>45.0</td>\n",
       "      <td>1.0</td>\n",
       "    </tr>\n",
       "    <tr>\n",
       "      <th>y_sim[3344]</th>\n",
       "      <td>50.0</td>\n",
       "      <td>0.1200</td>\n",
       "      <td>7.10</td>\n",
       "      <td>38.0</td>\n",
       "      <td>50.0</td>\n",
       "      <td>62.0</td>\n",
       "      <td>3634.0</td>\n",
       "      <td>40.0</td>\n",
       "      <td>1.0</td>\n",
       "    </tr>\n",
       "  </tbody>\n",
       "</table>\n",
       "<p>6690 rows × 9 columns</p>\n",
       "</div>"
      ],
      "text/plain": [
       "                 Mean    MCSE  StdDev        5%       50%       95%   N_Eff  \\\n",
       "name                                                                          \n",
       "lp__         490000.0  0.0230    0.83  490000.0  490000.0  490000.0  1300.0   \n",
       "lambda           50.0  0.0032    0.12      50.0      50.0      50.0  1400.0   \n",
       "log_lik[1]      -43.0  0.0031    0.12     -43.0     -43.0     -43.0  1440.0   \n",
       "log_lik[2]      -40.0  0.0030    0.11     -40.0     -40.0     -40.0  1440.0   \n",
       "log_lik[3]      -38.0  0.0029    0.11     -38.0     -38.0     -37.0  1440.0   \n",
       "...               ...     ...     ...       ...       ...       ...     ...   \n",
       "y_sim[3340]      50.0  0.1100    7.10      38.0      50.0      62.0  4016.0   \n",
       "y_sim[3341]      50.0  0.1100    7.00      39.0      50.0      62.0  3888.0   \n",
       "y_sim[3342]      50.0  0.1100    7.10      39.0      50.0      62.0  4061.0   \n",
       "y_sim[3343]      50.0  0.1100    7.10      38.0      50.0      62.0  4054.0   \n",
       "y_sim[3344]      50.0  0.1200    7.10      38.0      50.0      62.0  3634.0   \n",
       "\n",
       "             N_Eff/s  R_hat  \n",
       "name                         \n",
       "lp__            14.0    1.0  \n",
       "lambda          16.0    1.0  \n",
       "log_lik[1]      16.0    1.0  \n",
       "log_lik[2]      16.0    1.0  \n",
       "log_lik[3]      16.0    1.0  \n",
       "...              ...    ...  \n",
       "y_sim[3340]     44.0    1.0  \n",
       "y_sim[3341]     43.0    1.0  \n",
       "y_sim[3342]     45.0    1.0  \n",
       "y_sim[3343]     45.0    1.0  \n",
       "y_sim[3344]     40.0    1.0  \n",
       "\n",
       "[6690 rows x 9 columns]"
      ]
     },
     "execution_count": 16,
     "metadata": {},
     "output_type": "execute_result"
    }
   ],
   "source": [
    "samples1_post_white.summary()"
   ]
  },
  {
   "cell_type": "code",
   "execution_count": 17,
   "metadata": {},
   "outputs": [
    {
     "data": {
      "text/html": [
       "<div>\n",
       "<style scoped>\n",
       "    .dataframe tbody tr th:only-of-type {\n",
       "        vertical-align: middle;\n",
       "    }\n",
       "\n",
       "    .dataframe tbody tr th {\n",
       "        vertical-align: top;\n",
       "    }\n",
       "\n",
       "    .dataframe thead th {\n",
       "        text-align: right;\n",
       "    }\n",
       "</style>\n",
       "<table border=\"1\" class=\"dataframe\">\n",
       "  <thead>\n",
       "    <tr style=\"text-align: right;\">\n",
       "      <th></th>\n",
       "      <th>Mean</th>\n",
       "      <th>MCSE</th>\n",
       "      <th>StdDev</th>\n",
       "      <th>5%</th>\n",
       "      <th>50%</th>\n",
       "      <th>95%</th>\n",
       "      <th>N_Eff</th>\n",
       "      <th>N_Eff/s</th>\n",
       "      <th>R_hat</th>\n",
       "    </tr>\n",
       "    <tr>\n",
       "      <th>name</th>\n",
       "      <th></th>\n",
       "      <th></th>\n",
       "      <th></th>\n",
       "      <th></th>\n",
       "      <th></th>\n",
       "      <th></th>\n",
       "      <th></th>\n",
       "      <th></th>\n",
       "      <th></th>\n",
       "    </tr>\n",
       "  </thead>\n",
       "  <tbody>\n",
       "    <tr>\n",
       "      <th>lp__</th>\n",
       "      <td>380000.0</td>\n",
       "      <td>0.0160</td>\n",
       "      <td>0.710</td>\n",
       "      <td>380000.0</td>\n",
       "      <td>380000.0</td>\n",
       "      <td>380000.0</td>\n",
       "      <td>2000.0</td>\n",
       "      <td>26.0</td>\n",
       "      <td>1.0</td>\n",
       "    </tr>\n",
       "    <tr>\n",
       "      <th>lambda</th>\n",
       "      <td>45.0</td>\n",
       "      <td>0.0034</td>\n",
       "      <td>0.120</td>\n",
       "      <td>45.0</td>\n",
       "      <td>45.0</td>\n",
       "      <td>45.0</td>\n",
       "      <td>1300.0</td>\n",
       "      <td>17.0</td>\n",
       "      <td>1.0</td>\n",
       "    </tr>\n",
       "    <tr>\n",
       "      <th>log_lik[1]</th>\n",
       "      <td>-27.0</td>\n",
       "      <td>0.0028</td>\n",
       "      <td>0.100</td>\n",
       "      <td>-27.0</td>\n",
       "      <td>-27.0</td>\n",
       "      <td>-27.0</td>\n",
       "      <td>1349.0</td>\n",
       "      <td>17.0</td>\n",
       "      <td>1.0</td>\n",
       "    </tr>\n",
       "    <tr>\n",
       "      <th>log_lik[2]</th>\n",
       "      <td>-13.0</td>\n",
       "      <td>0.0020</td>\n",
       "      <td>0.074</td>\n",
       "      <td>-13.0</td>\n",
       "      <td>-13.0</td>\n",
       "      <td>-13.0</td>\n",
       "      <td>1349.0</td>\n",
       "      <td>17.0</td>\n",
       "      <td>1.0</td>\n",
       "    </tr>\n",
       "    <tr>\n",
       "      <th>log_lik[3]</th>\n",
       "      <td>-11.0</td>\n",
       "      <td>0.0019</td>\n",
       "      <td>0.069</td>\n",
       "      <td>-11.0</td>\n",
       "      <td>-11.0</td>\n",
       "      <td>-11.0</td>\n",
       "      <td>1349.0</td>\n",
       "      <td>17.0</td>\n",
       "      <td>1.0</td>\n",
       "    </tr>\n",
       "    <tr>\n",
       "      <th>...</th>\n",
       "      <td>...</td>\n",
       "      <td>...</td>\n",
       "      <td>...</td>\n",
       "      <td>...</td>\n",
       "      <td>...</td>\n",
       "      <td>...</td>\n",
       "      <td>...</td>\n",
       "      <td>...</td>\n",
       "      <td>...</td>\n",
       "    </tr>\n",
       "    <tr>\n",
       "      <th>y_sim[2977]</th>\n",
       "      <td>45.0</td>\n",
       "      <td>0.1000</td>\n",
       "      <td>6.600</td>\n",
       "      <td>35.0</td>\n",
       "      <td>45.0</td>\n",
       "      <td>57.0</td>\n",
       "      <td>3960.0</td>\n",
       "      <td>51.0</td>\n",
       "      <td>1.0</td>\n",
       "    </tr>\n",
       "    <tr>\n",
       "      <th>y_sim[2978]</th>\n",
       "      <td>45.0</td>\n",
       "      <td>0.1100</td>\n",
       "      <td>6.700</td>\n",
       "      <td>34.0</td>\n",
       "      <td>45.0</td>\n",
       "      <td>56.0</td>\n",
       "      <td>3936.0</td>\n",
       "      <td>51.0</td>\n",
       "      <td>1.0</td>\n",
       "    </tr>\n",
       "    <tr>\n",
       "      <th>y_sim[2979]</th>\n",
       "      <td>45.0</td>\n",
       "      <td>0.1100</td>\n",
       "      <td>6.800</td>\n",
       "      <td>34.0</td>\n",
       "      <td>45.0</td>\n",
       "      <td>56.0</td>\n",
       "      <td>4007.0</td>\n",
       "      <td>52.0</td>\n",
       "      <td>1.0</td>\n",
       "    </tr>\n",
       "    <tr>\n",
       "      <th>y_sim[2980]</th>\n",
       "      <td>45.0</td>\n",
       "      <td>0.1000</td>\n",
       "      <td>6.800</td>\n",
       "      <td>34.0</td>\n",
       "      <td>45.0</td>\n",
       "      <td>56.0</td>\n",
       "      <td>4174.0</td>\n",
       "      <td>54.0</td>\n",
       "      <td>1.0</td>\n",
       "    </tr>\n",
       "    <tr>\n",
       "      <th>y_sim[2981]</th>\n",
       "      <td>45.0</td>\n",
       "      <td>0.1100</td>\n",
       "      <td>6.700</td>\n",
       "      <td>34.0</td>\n",
       "      <td>45.0</td>\n",
       "      <td>57.0</td>\n",
       "      <td>3808.0</td>\n",
       "      <td>49.0</td>\n",
       "      <td>1.0</td>\n",
       "    </tr>\n",
       "  </tbody>\n",
       "</table>\n",
       "<p>5964 rows × 9 columns</p>\n",
       "</div>"
      ],
      "text/plain": [
       "                 Mean    MCSE  StdDev        5%       50%       95%   N_Eff  \\\n",
       "name                                                                          \n",
       "lp__         380000.0  0.0160   0.710  380000.0  380000.0  380000.0  2000.0   \n",
       "lambda           45.0  0.0034   0.120      45.0      45.0      45.0  1300.0   \n",
       "log_lik[1]      -27.0  0.0028   0.100     -27.0     -27.0     -27.0  1349.0   \n",
       "log_lik[2]      -13.0  0.0020   0.074     -13.0     -13.0     -13.0  1349.0   \n",
       "log_lik[3]      -11.0  0.0019   0.069     -11.0     -11.0     -11.0  1349.0   \n",
       "...               ...     ...     ...       ...       ...       ...     ...   \n",
       "y_sim[2977]      45.0  0.1000   6.600      35.0      45.0      57.0  3960.0   \n",
       "y_sim[2978]      45.0  0.1100   6.700      34.0      45.0      56.0  3936.0   \n",
       "y_sim[2979]      45.0  0.1100   6.800      34.0      45.0      56.0  4007.0   \n",
       "y_sim[2980]      45.0  0.1000   6.800      34.0      45.0      56.0  4174.0   \n",
       "y_sim[2981]      45.0  0.1100   6.700      34.0      45.0      57.0  3808.0   \n",
       "\n",
       "             N_Eff/s  R_hat  \n",
       "name                         \n",
       "lp__            26.0    1.0  \n",
       "lambda          17.0    1.0  \n",
       "log_lik[1]      17.0    1.0  \n",
       "log_lik[2]      17.0    1.0  \n",
       "log_lik[3]      17.0    1.0  \n",
       "...              ...    ...  \n",
       "y_sim[2977]     51.0    1.0  \n",
       "y_sim[2978]     51.0    1.0  \n",
       "y_sim[2979]     52.0    1.0  \n",
       "y_sim[2980]     54.0    1.0  \n",
       "y_sim[2981]     49.0    1.0  \n",
       "\n",
       "[5964 rows x 9 columns]"
      ]
     },
     "execution_count": 17,
     "metadata": {},
     "output_type": "execute_result"
    }
   ],
   "source": [
    "samples1_post_black.summary()"
   ]
  },
  {
   "cell_type": "code",
   "execution_count": 18,
   "metadata": {},
   "outputs": [],
   "source": [
    "lambda1_post_white = samples1_post_white.stan_variable('lambda')\n",
    "y_sim_post_white = samples1_post_white.stan_variable('y_sim')\n",
    "\n",
    "lambda1_post_black = samples1_post_black.stan_variable('lambda')\n",
    "y_sim_post_black = samples1_post_black.stan_variable('y_sim')"
   ]
  },
  {
   "cell_type": "code",
   "execution_count": 19,
   "metadata": {},
   "outputs": [
    {
     "data": {
      "image/png": "[encoded data removed]",
      "text/plain": [
       "<Figure size 1080x720 with 4 Axes>"
      ]
     },
     "metadata": {
      "needs_background": "light"
     },
     "output_type": "display_data"
    }
   ],
   "source": [
    "fig, axes = plt.subplots(2, 2, figsize=(15,10))\n",
    "\n",
    "ax1 = axes[0][0]\n",
    "ax1.hist(lambda1_post_white, bins='auto')\n",
    "ax1.set_yticks([])\n",
    "ax1.set_title('Lambda posterior- white')\n",
    "ax1.grid()\n",
    "\n",
    "ax2 = axes[0][1]\n",
    "ax2.hist(lambda1_post_black, bins='auto', color='k')\n",
    "ax2.set_yticks([])\n",
    "ax2.set_title('Lambda posterior- black')\n",
    "ax2.grid()\n",
    "\n",
    "ax3 = axes[1][0]\n",
    "ax3.hist(y_sim_post_white.flatten(), bins=20)\n",
    "ax3.set_xlim([0,300])\n",
    "ax3.set_yticks([])\n",
    "ax3.set_title('Openings used posterior- white')\n",
    "ax3.grid()\n",
    "\n",
    "ax4 = axes[1][1]\n",
    "ax4.hist(y_sim_post_black.flatten(), bins=20, color='k')\n",
    "ax4.set_xlim([0,300])\n",
    "ax4.set_yticks([])\n",
    "ax4.set_title('Openings used posterior- black')\n",
    "ax4.grid()\n",
    "plt.show()"
   ]
  },
  {
   "cell_type": "markdown",
   "metadata": {},
   "source": [
    "**Prediction**\n",
    "\n",
    "The prepared model predicted that mostly used will be openings in the interval between 35 and 57."
   ]
  },
  {
   "cell_type": "code",
   "execution_count": 20,
   "metadata": {},
   "outputs": [
    {
     "name": "stdout",
     "output_type": "stream",
     "text": [
      "Median of predicted openings for white pawns = 50.0\n",
      "Confidence interval = [ 38.0 60.0 ]\n"
     ]
    }
   ],
   "source": [
    "median_y_sim_white = np.median(y_sim_post_white.flatten())\n",
    "cinf_y_sim_white = az.hdi(y_sim_post_white.flatten(),0.89)\n",
    "\n",
    "print('Median of predicted openings for white pawns =',median_y_sim_white)\n",
    "print('Confidence interval = [',*cinf_y_sim_white,']')"
   ]
  },
  {
   "cell_type": "code",
   "execution_count": 21,
   "metadata": {},
   "outputs": [
    {
     "name": "stdout",
     "output_type": "stream",
     "text": [
      "Median of predicted openings for black pawns = 45.0\n",
      "Confidence interval = [ 34.0 55.0 ]\n"
     ]
    }
   ],
   "source": [
    "median_y_sim_black = np.median(y_sim_post_black.flatten())\n",
    "cinf_y_sim_black = az.hdi(y_sim_post_black.flatten(),0.89)\n",
    "\n",
    "print('Median of predicted openings for black pawns =',median_y_sim_black)\n",
    "print('Confidence interval = [',*cinf_y_sim_black,']')"
   ]
  },
  {
   "cell_type": "markdown",
   "metadata": {},
   "source": [
    "# <center>**Model 2- considering number of turns**</center>"
   ]
  },
  {
   "cell_type": "markdown",
   "metadata": {},
   "source": [
    "The second model is based on the first model described above, but it also considers the influence of number of turns in the match on the opening was played. In addition, in the second model there is a value of advantage added, which is based on number of games that were won by white or black pawns. "
   ]
  },
  {
   "cell_type": "markdown",
   "metadata": {},
   "source": [
    "**Prior predictive distribution**\n",
    "\n",
    "For prior predictive distribution to the stan model was added a parameter t, which is of type vector and length N. The N, as in the first model, describes number of games played, whereas t is the number of turns in every game. The parameter t was added to the Poisson distribution and multiplied with the lambda parameter for calculatiing the output. "
   ]
  },
  {
   "cell_type": "code",
   "execution_count": 22,
   "metadata": {},
   "outputs": [
    {
     "name": "stdout",
     "output_type": "stream",
     "text": [
      "2981\n",
      "3344\n",
      "0.8914473684210527\n",
      "1.121771217712177\n"
     ]
    }
   ],
   "source": [
    "print(len(black))\n",
    "print(len(white))\n",
    "\n",
    "addv_white = len(white)/len(black)\n",
    "addv_black = len(black)/len(white)\n",
    "print(addv_black)\n",
    "print(addv_white)"
   ]
  },
  {
   "cell_type": "code",
   "execution_count": 23,
   "metadata": {},
   "outputs": [
    {
     "name": "stderr",
     "output_type": "stream",
     "text": [
      "INFO:cmdstanpy:found newer exe file, not recompiling\n",
      "INFO:cmdstanpy:CmdStan start procesing\n",
      "chain 1 |\u001b[34m██████████\u001b[0m| 00:13 Sampling completed                      "
     ]
    },
    {
     "name": "stdout",
     "output_type": "stream",
     "text": [
      "                                                                                "
     ]
    },
    {
     "name": "stderr",
     "output_type": "stream",
     "text": [
      "\n",
      "INFO:cmdstanpy:CmdStan done processing.\n"
     ]
    },
    {
     "name": "stdout",
     "output_type": "stream",
     "text": [
      "\n"
     ]
    }
   ],
   "source": [
    "model2_prior = CmdStanModel(stan_file='D:\\Studia\\ProjektDA\\\\turns_prior.stan')\n",
    "\n",
    "data2_prior = {'N' : len(mate), 't' : mate['turns'].values}\n",
    "\n",
    "samples2_prior = model2_prior.sample(data=data2_prior,\n",
    "                        fixed_param=True, \n",
    "                        iter_sampling=1000, \n",
    "                        iter_warmup=0, \n",
    "                        chains=1, \n",
    "                        refresh=1000,\n",
    "                        seed=29042020)"
   ]
  },
  {
   "cell_type": "code",
   "execution_count": 24,
   "metadata": {},
   "outputs": [
    {
     "data": {
      "text/plain": [
       "([], [])"
      ]
     },
     "execution_count": 24,
     "metadata": {},
     "output_type": "execute_result"
    },
    {
     "data": {
      "image/png": "[encoded data removed]",
      "text/plain": [
       "<Figure size 432x288 with 1 Axes>"
      ]
     },
     "metadata": {
      "needs_background": "light"
     },
     "output_type": "display_data"
    }
   ],
   "source": [
    "y_sim2_prior = samples2_prior.stan_variable('y')\n",
    "plt.hist(y_sim2_prior.flatten(),bins=20)\n",
    "plt.yticks([])"
   ]
  },
  {
   "cell_type": "code",
   "execution_count": 25,
   "metadata": {},
   "outputs": [
    {
     "data": {
      "text/plain": [
       "([], [])"
      ]
     },
     "execution_count": 25,
     "metadata": {},
     "output_type": "execute_result"
    },
    {
     "data": {
      "image/png": "[encoded data removed]",
      "text/plain": [
       "<Figure size 432x288 with 1 Axes>"
      ]
     },
     "metadata": {
      "needs_background": "light"
     },
     "output_type": "display_data"
    }
   ],
   "source": [
    "lambda2_prior = samples2_prior.stan_variable('lambda')\n",
    "plt.hist(lambda2_prior,bins=20)\n",
    "plt.yticks([])"
   ]
  },
  {
   "cell_type": "markdown",
   "metadata": {},
   "source": [
    "**Posterior analysis** \n",
    "\n",
    "Posterior analysis differs from the first model in parameter t. As described in the previous section parameter t describes numbers of turns taken in a specific match. It is then added to the Poisson distribution and multiplied with the lambda parameter for calculating the y and predicted y. Where the y describes number(code) of the opening."
   ]
  },
  {
   "cell_type": "code",
   "execution_count": 26,
   "metadata": {},
   "outputs": [
    {
     "name": "stderr",
     "output_type": "stream",
     "text": [
      "INFO:cmdstanpy:found newer exe file, not recompiling\n",
      "INFO:cmdstanpy:CmdStan start procesing\n",
      "chain 1 |\u001b[33m          \u001b[0m| 00:00 Status\n",
      "\u001b[A\n",
      "\n",
      "chain 1 |\u001b[33m▍         \u001b[0m| 00:00 Status\n",
      "\n",
      "\u001b[A\u001b[A\n",
      "\u001b[A\n",
      "\n",
      "chain 1 |\u001b[33m▉         \u001b[0m| 00:00 Iteration:    1 / 2000 [  0%]  (Warmup)\n",
      "\u001b[A\n",
      "\n",
      "chain 1 |\u001b[33m█▎        \u001b[0m| 00:00 Iteration:  100 / 2000 [  5%]  (Warmup)\n",
      "chain 1 |\u001b[33m█▊        \u001b[0m| 00:01 Iteration:  200 / 2000 [ 10%]  (Warmup)\n",
      "\n",
      "\u001b[A\u001b[A\n",
      "chain 1 |\u001b[33m██▎       \u001b[0m| 00:01 Iteration:  300 / 2000 [ 15%]  (Warmup)\n",
      "\n",
      "\u001b[A\u001b[A\n",
      "chain 1 |\u001b[33m██▋       \u001b[0m| 00:01 Iteration:  400 / 2000 [ 20%]  (Warmup)\n",
      "\n",
      "\u001b[A\u001b[A\n",
      "chain 1 |\u001b[33m███▏      \u001b[0m| 00:02 Iteration:  500 / 2000 [ 25%]  (Warmup)\n",
      "\n",
      "\u001b[A\u001b[A\n",
      "chain 1 |\u001b[33m███▋      \u001b[0m| 00:02 Iteration:  600 / 2000 [ 30%]  (Warmup)\n",
      "\n",
      "\u001b[A\u001b[A\n",
      "chain 1 |\u001b[33m████      \u001b[0m| 00:02 Iteration:  700 / 2000 [ 35%]  (Warmup)\n",
      "\n",
      "\u001b[A\u001b[A\n",
      "chain 1 |\u001b[33m████▌     \u001b[0m| 00:02 Iteration:  800 / 2000 [ 40%]  (Warmup)\n",
      "\n",
      "\u001b[A\u001b[A\n",
      "chain 1 |\u001b[33m█████     \u001b[0m| 00:03 Iteration:  900 / 2000 [ 45%]  (Warmup)\n",
      "\n",
      "\u001b[A\u001b[A\n",
      "\u001b[A\n",
      "\n",
      "chain 1 |\u001b[34m█████▉    \u001b[0m| 00:05 Iteration: 1001 / 2000 [ 50%]  (Sampling)\n",
      "\u001b[A\n",
      "\n",
      "chain 1 |\u001b[34m██████▎   \u001b[0m| 00:07 Iteration: 1100 / 2000 [ 55%]  (Sampling)\n",
      "\u001b[A\n",
      "\n",
      "chain 1 |\u001b[34m██████▊   \u001b[0m| 00:09 Iteration: 1200 / 2000 [ 60%]  (Sampling)\n",
      "\u001b[A\n",
      "\n",
      "chain 1 |\u001b[34m███████▎  \u001b[0m| 00:12 Iteration: 1300 / 2000 [ 65%]  (Sampling)\n",
      "chain 1 |\u001b[34m███████▋  \u001b[0m| 00:14 Iteration: 1400 / 2000 [ 70%]  (Sampling)\n",
      "\n",
      "\u001b[A\u001b[A\n",
      "chain 1 |\u001b[34m████████▏ \u001b[0m| 00:17 Iteration: 1500 / 2000 [ 75%]  (Sampling)\n",
      "\n",
      "\u001b[A\u001b[A\n",
      "chain 1 |\u001b[34m████████▋ \u001b[0m| 00:19 Iteration: 1600 / 2000 [ 80%]  (Sampling)\n",
      "\n",
      "\u001b[A\u001b[A\n",
      "chain 1 |\u001b[34m█████████ \u001b[0m| 00:21 Iteration: 1700 / 2000 [ 85%]  (Sampling)\n",
      "\n",
      "\u001b[A\u001b[A\n",
      "chain 1 |\u001b[34m█████████▌\u001b[0m| 00:24 Iteration: 1800 / 2000 [ 90%]  (Sampling)\n",
      "\n",
      "\u001b[A\u001b[A\n",
      "chain 1 |\u001b[34m██████████\u001b[0m| 00:26 Iteration: 1900 / 2000 [ 95%]  (Sampling)\n",
      "\n",
      "\u001b[A\u001b[A\n",
      "chain 1 |\u001b[34m██████████\u001b[0m| 00:26 Sampling completed                       \n",
      "chain 2 |\u001b[34m██████████\u001b[0m| 00:26 Sampling completed                       \n",
      "chain 3 |\u001b[34m██████████\u001b[0m| 00:26 Sampling completed                       \n",
      "chain 4 |\u001b[34m██████████\u001b[0m| 00:26 Sampling completed                       "
     ]
    },
    {
     "name": "stdout",
     "output_type": "stream",
     "text": [
      "                                                                                                                                                                                                                                                                                                                                "
     ]
    },
    {
     "name": "stderr",
     "output_type": "stream",
     "text": [
      "\n",
      "INFO:cmdstanpy:CmdStan done processing.\n"
     ]
    },
    {
     "name": "stdout",
     "output_type": "stream",
     "text": [
      "\n"
     ]
    },
    {
     "name": "stderr",
     "output_type": "stream",
     "text": [
      "INFO:cmdstanpy:CmdStan start procesing\n",
      "chain 1 |\u001b[33m          \u001b[0m| 00:00 Status\n",
      "\u001b[A\n",
      "\n",
      "chain 1 |\u001b[33m▍         \u001b[0m| 00:00 Status\n",
      "\u001b[A\n",
      "\n",
      "chain 1 |\u001b[33m▉         \u001b[0m| 00:00 Iteration:    1 / 2000 [  0%]  (Warmup)\n",
      "\n",
      "\u001b[A\u001b[A\n",
      "\u001b[A\n",
      "\u001b[A\n",
      "\n",
      "chain 1 |\u001b[33m█▎        \u001b[0m| 00:00 Iteration:  100 / 2000 [  5%]  (Warmup)\n",
      "\u001b[A\n",
      "\n",
      "chain 1 |\u001b[33m█▊        \u001b[0m| 00:01 Iteration:  200 / 2000 [ 10%]  (Warmup)\n",
      "\u001b[A\n",
      "\n",
      "chain 1 |\u001b[33m██▎       \u001b[0m| 00:01 Iteration:  300 / 2000 [ 15%]  (Warmup)\n",
      "\u001b[A\n",
      "\n",
      "chain 1 |\u001b[33m██▋       \u001b[0m| 00:01 Iteration:  400 / 2000 [ 20%]  (Warmup)\n",
      "\u001b[A\n",
      "\n",
      "chain 1 |\u001b[33m███▏      \u001b[0m| 00:01 Iteration:  500 / 2000 [ 25%]  (Warmup)\n",
      "\u001b[A\n",
      "\n",
      "chain 1 |\u001b[33m███▋      \u001b[0m| 00:02 Iteration:  600 / 2000 [ 30%]  (Warmup)\n",
      "\u001b[A\n",
      "\n",
      "chain 1 |\u001b[33m████      \u001b[0m| 00:02 Iteration:  700 / 2000 [ 35%]  (Warmup)\n",
      "\u001b[A\n",
      "\n",
      "chain 1 |\u001b[33m████▌     \u001b[0m| 00:02 Iteration:  800 / 2000 [ 40%]  (Warmup)\n",
      "\u001b[A\n",
      "\n",
      "chain 1 |\u001b[33m█████     \u001b[0m| 00:02 Iteration:  900 / 2000 [ 45%]  (Warmup)\n",
      "\u001b[A\n",
      "\n",
      "chain 1 |\u001b[34m█████▉    \u001b[0m| 00:05 Iteration: 1001 / 2000 [ 50%]  (Sampling)\n",
      "\u001b[A\n",
      "\n",
      "chain 1 |\u001b[34m██████▎   \u001b[0m| 00:07 Iteration: 1100 / 2000 [ 55%]  (Sampling)\n",
      "\u001b[A\n",
      "\n",
      "chain 1 |\u001b[34m██████▊   \u001b[0m| 00:09 Iteration: 1200 / 2000 [ 60%]  (Sampling)\n",
      "\u001b[A\n",
      "\n",
      "chain 1 |\u001b[34m███████▎  \u001b[0m| 00:11 Iteration: 1300 / 2000 [ 65%]  (Sampling)\n",
      "\u001b[A\n",
      "\n",
      "chain 1 |\u001b[34m███████▋  \u001b[0m| 00:13 Iteration: 1400 / 2000 [ 70%]  (Sampling)\n",
      "\u001b[A\n",
      "\n",
      "chain 1 |\u001b[34m████████▏ \u001b[0m| 00:15 Iteration: 1500 / 2000 [ 75%]  (Sampling)\n",
      "\u001b[A\n",
      "\n",
      "chain 1 |\u001b[34m████████▋ \u001b[0m| 00:17 Iteration: 1600 / 2000 [ 80%]  (Sampling)\n",
      "\u001b[A\n",
      "\n",
      "chain 1 |\u001b[34m█████████ \u001b[0m| 00:19 Iteration: 1700 / 2000 [ 85%]  (Sampling)\n",
      "\u001b[A\n",
      "\n",
      "chain 1 |\u001b[34m█████████▌\u001b[0m| 00:21 Iteration: 1800 / 2000 [ 90%]  (Sampling)\n",
      "\u001b[A\n",
      "\n",
      "chain 1 |\u001b[34m██████████\u001b[0m| 00:23 Sampling completed                       \n",
      "chain 2 |\u001b[34m██████████\u001b[0m| 00:23 Sampling completed                       \n",
      "chain 3 |\u001b[34m██████████\u001b[0m| 00:23 Sampling completed                       \n",
      "chain 4 |\u001b[34m██████████\u001b[0m| 00:23 Sampling completed                       "
     ]
    },
    {
     "name": "stdout",
     "output_type": "stream",
     "text": [
      "                                                                                                                                                                                                                                                                                                                                "
     ]
    },
    {
     "name": "stderr",
     "output_type": "stream",
     "text": [
      "\n",
      "INFO:cmdstanpy:CmdStan done processing.\n"
     ]
    },
    {
     "name": "stdout",
     "output_type": "stream",
     "text": [
      "\n"
     ]
    }
   ],
   "source": [
    "model2_post = CmdStanModel(stan_file='D:\\Studia\\ProjektDA\\model2.stan')\n",
    "\n",
    "data2_post_white = {'M' : len(white), 'y' : white['opening_eco'].values, 't' : white['turns'].values, 'addv': addv_white}\n",
    "data2_post_black = {'M' : len(black), 'y' : black['opening_eco'].values, 't' : black['turns'].values, 'addv': addv_black}\n",
    "\n",
    "samples2_post_white =  model2_post.sample(data = data2_post_white, \n",
    "                            fixed_param = False,\n",
    "                            seed = 8052020)\n",
    "\n",
    "samples2_post_black =  model2_post.sample(data = data2_post_black, \n",
    "                            fixed_param = False,\n",
    "                            seed = 8052020)"
   ]
  },
  {
   "cell_type": "code",
   "execution_count": 27,
   "metadata": {},
   "outputs": [
    {
     "data": {
      "text/html": [
       "<div>\n",
       "<style scoped>\n",
       "    .dataframe tbody tr th:only-of-type {\n",
       "        vertical-align: middle;\n",
       "    }\n",
       "\n",
       "    .dataframe tbody tr th {\n",
       "        vertical-align: top;\n",
       "    }\n",
       "\n",
       "    .dataframe thead th {\n",
       "        text-align: right;\n",
       "    }\n",
       "</style>\n",
       "<table border=\"1\" class=\"dataframe\">\n",
       "  <thead>\n",
       "    <tr style=\"text-align: right;\">\n",
       "      <th></th>\n",
       "      <th>Mean</th>\n",
       "      <th>MCSE</th>\n",
       "      <th>StdDev</th>\n",
       "      <th>5%</th>\n",
       "      <th>50%</th>\n",
       "      <th>95%</th>\n",
       "      <th>N_Eff</th>\n",
       "      <th>N_Eff/s</th>\n",
       "      <th>R_hat</th>\n",
       "    </tr>\n",
       "    <tr>\n",
       "      <th>name</th>\n",
       "      <th></th>\n",
       "      <th></th>\n",
       "      <th></th>\n",
       "      <th></th>\n",
       "      <th></th>\n",
       "      <th></th>\n",
       "      <th></th>\n",
       "      <th></th>\n",
       "      <th></th>\n",
       "    </tr>\n",
       "  </thead>\n",
       "  <tbody>\n",
       "    <tr>\n",
       "      <th>lp__</th>\n",
       "      <td>470000.00</td>\n",
       "      <td>0.018000</td>\n",
       "      <td>0.7900</td>\n",
       "      <td>470000.00</td>\n",
       "      <td>470000.00</td>\n",
       "      <td>470000.00</td>\n",
       "      <td>1900.0</td>\n",
       "      <td>20.0</td>\n",
       "      <td>1.0</td>\n",
       "    </tr>\n",
       "    <tr>\n",
       "      <th>lambda</th>\n",
       "      <td>0.76</td>\n",
       "      <td>0.000048</td>\n",
       "      <td>0.0019</td>\n",
       "      <td>0.76</td>\n",
       "      <td>0.76</td>\n",
       "      <td>0.76</td>\n",
       "      <td>1500.0</td>\n",
       "      <td>16.0</td>\n",
       "      <td>1.0</td>\n",
       "    </tr>\n",
       "    <tr>\n",
       "      <th>log_lik[1]</th>\n",
       "      <td>-2.00</td>\n",
       "      <td>0.000079</td>\n",
       "      <td>0.0031</td>\n",
       "      <td>-2.00</td>\n",
       "      <td>-2.00</td>\n",
       "      <td>-2.00</td>\n",
       "      <td>1511.0</td>\n",
       "      <td>16.0</td>\n",
       "      <td>1.0</td>\n",
       "    </tr>\n",
       "    <tr>\n",
       "      <th>log_lik[2]</th>\n",
       "      <td>-3.40</td>\n",
       "      <td>0.000140</td>\n",
       "      <td>0.0055</td>\n",
       "      <td>-3.40</td>\n",
       "      <td>-3.40</td>\n",
       "      <td>-3.40</td>\n",
       "      <td>1511.0</td>\n",
       "      <td>16.0</td>\n",
       "      <td>1.0</td>\n",
       "    </tr>\n",
       "    <tr>\n",
       "      <th>log_lik[3]</th>\n",
       "      <td>-5.00</td>\n",
       "      <td>0.000210</td>\n",
       "      <td>0.0080</td>\n",
       "      <td>-5.00</td>\n",
       "      <td>-5.00</td>\n",
       "      <td>-5.00</td>\n",
       "      <td>1511.0</td>\n",
       "      <td>16.0</td>\n",
       "      <td>1.0</td>\n",
       "    </tr>\n",
       "    <tr>\n",
       "      <th>...</th>\n",
       "      <td>...</td>\n",
       "      <td>...</td>\n",
       "      <td>...</td>\n",
       "      <td>...</td>\n",
       "      <td>...</td>\n",
       "      <td>...</td>\n",
       "      <td>...</td>\n",
       "      <td>...</td>\n",
       "      <td>...</td>\n",
       "    </tr>\n",
       "    <tr>\n",
       "      <th>y_sim[3340]</th>\n",
       "      <td>34.00</td>\n",
       "      <td>0.090000</td>\n",
       "      <td>5.8000</td>\n",
       "      <td>25.00</td>\n",
       "      <td>34.00</td>\n",
       "      <td>44.00</td>\n",
       "      <td>4166.0</td>\n",
       "      <td>44.0</td>\n",
       "      <td>1.0</td>\n",
       "    </tr>\n",
       "    <tr>\n",
       "      <th>y_sim[3341]</th>\n",
       "      <td>29.00</td>\n",
       "      <td>0.085000</td>\n",
       "      <td>5.4000</td>\n",
       "      <td>21.00</td>\n",
       "      <td>29.00</td>\n",
       "      <td>39.00</td>\n",
       "      <td>4040.0</td>\n",
       "      <td>43.0</td>\n",
       "      <td>1.0</td>\n",
       "    </tr>\n",
       "    <tr>\n",
       "      <th>y_sim[3342]</th>\n",
       "      <td>57.00</td>\n",
       "      <td>0.120000</td>\n",
       "      <td>7.4000</td>\n",
       "      <td>45.00</td>\n",
       "      <td>56.00</td>\n",
       "      <td>69.00</td>\n",
       "      <td>3528.0</td>\n",
       "      <td>38.0</td>\n",
       "      <td>1.0</td>\n",
       "    </tr>\n",
       "    <tr>\n",
       "      <th>y_sim[3343]</th>\n",
       "      <td>34.00</td>\n",
       "      <td>0.090000</td>\n",
       "      <td>5.7000</td>\n",
       "      <td>25.00</td>\n",
       "      <td>34.00</td>\n",
       "      <td>44.00</td>\n",
       "      <td>4057.0</td>\n",
       "      <td>43.0</td>\n",
       "      <td>1.0</td>\n",
       "    </tr>\n",
       "    <tr>\n",
       "      <th>y_sim[3344]</th>\n",
       "      <td>28.00</td>\n",
       "      <td>0.083000</td>\n",
       "      <td>5.3000</td>\n",
       "      <td>20.00</td>\n",
       "      <td>28.00</td>\n",
       "      <td>37.00</td>\n",
       "      <td>4029.0</td>\n",
       "      <td>43.0</td>\n",
       "      <td>1.0</td>\n",
       "    </tr>\n",
       "  </tbody>\n",
       "</table>\n",
       "<p>6690 rows × 9 columns</p>\n",
       "</div>"
      ],
      "text/plain": [
       "                  Mean      MCSE  StdDev         5%        50%        95%  \\\n",
       "name                                                                        \n",
       "lp__         470000.00  0.018000  0.7900  470000.00  470000.00  470000.00   \n",
       "lambda            0.76  0.000048  0.0019       0.76       0.76       0.76   \n",
       "log_lik[1]       -2.00  0.000079  0.0031      -2.00      -2.00      -2.00   \n",
       "log_lik[2]       -3.40  0.000140  0.0055      -3.40      -3.40      -3.40   \n",
       "log_lik[3]       -5.00  0.000210  0.0080      -5.00      -5.00      -5.00   \n",
       "...                ...       ...     ...        ...        ...        ...   \n",
       "y_sim[3340]      34.00  0.090000  5.8000      25.00      34.00      44.00   \n",
       "y_sim[3341]      29.00  0.085000  5.4000      21.00      29.00      39.00   \n",
       "y_sim[3342]      57.00  0.120000  7.4000      45.00      56.00      69.00   \n",
       "y_sim[3343]      34.00  0.090000  5.7000      25.00      34.00      44.00   \n",
       "y_sim[3344]      28.00  0.083000  5.3000      20.00      28.00      37.00   \n",
       "\n",
       "              N_Eff  N_Eff/s  R_hat  \n",
       "name                                 \n",
       "lp__         1900.0     20.0    1.0  \n",
       "lambda       1500.0     16.0    1.0  \n",
       "log_lik[1]   1511.0     16.0    1.0  \n",
       "log_lik[2]   1511.0     16.0    1.0  \n",
       "log_lik[3]   1511.0     16.0    1.0  \n",
       "...             ...      ...    ...  \n",
       "y_sim[3340]  4166.0     44.0    1.0  \n",
       "y_sim[3341]  4040.0     43.0    1.0  \n",
       "y_sim[3342]  3528.0     38.0    1.0  \n",
       "y_sim[3343]  4057.0     43.0    1.0  \n",
       "y_sim[3344]  4029.0     43.0    1.0  \n",
       "\n",
       "[6690 rows x 9 columns]"
      ]
     },
     "execution_count": 27,
     "metadata": {},
     "output_type": "execute_result"
    }
   ],
   "source": [
    "samples2_post_white.summary()"
   ]
  },
  {
   "cell_type": "code",
   "execution_count": 28,
   "metadata": {},
   "outputs": [
    {
     "data": {
      "text/html": [
       "<div>\n",
       "<style scoped>\n",
       "    .dataframe tbody tr th:only-of-type {\n",
       "        vertical-align: middle;\n",
       "    }\n",
       "\n",
       "    .dataframe tbody tr th {\n",
       "        vertical-align: top;\n",
       "    }\n",
       "\n",
       "    .dataframe thead th {\n",
       "        text-align: right;\n",
       "    }\n",
       "</style>\n",
       "<table border=\"1\" class=\"dataframe\">\n",
       "  <thead>\n",
       "    <tr style=\"text-align: right;\">\n",
       "      <th></th>\n",
       "      <th>Mean</th>\n",
       "      <th>MCSE</th>\n",
       "      <th>StdDev</th>\n",
       "      <th>5%</th>\n",
       "      <th>50%</th>\n",
       "      <th>95%</th>\n",
       "      <th>N_Eff</th>\n",
       "      <th>N_Eff/s</th>\n",
       "      <th>R_hat</th>\n",
       "    </tr>\n",
       "    <tr>\n",
       "      <th>name</th>\n",
       "      <th></th>\n",
       "      <th></th>\n",
       "      <th></th>\n",
       "      <th></th>\n",
       "      <th></th>\n",
       "      <th></th>\n",
       "      <th></th>\n",
       "      <th></th>\n",
       "      <th></th>\n",
       "    </tr>\n",
       "  </thead>\n",
       "  <tbody>\n",
       "    <tr>\n",
       "      <th>lp__</th>\n",
       "      <td>370000.00</td>\n",
       "      <td>0.016000</td>\n",
       "      <td>0.7500</td>\n",
       "      <td>370000.00</td>\n",
       "      <td>370000.00</td>\n",
       "      <td>370000.00</td>\n",
       "      <td>2300.0</td>\n",
       "      <td>28.0</td>\n",
       "      <td>1.0</td>\n",
       "    </tr>\n",
       "    <tr>\n",
       "      <th>lambda</th>\n",
       "      <td>0.65</td>\n",
       "      <td>0.000051</td>\n",
       "      <td>0.0019</td>\n",
       "      <td>0.65</td>\n",
       "      <td>0.65</td>\n",
       "      <td>0.66</td>\n",
       "      <td>1300.0</td>\n",
       "      <td>16.0</td>\n",
       "      <td>1.0</td>\n",
       "    </tr>\n",
       "    <tr>\n",
       "      <th>log_lik[1]</th>\n",
       "      <td>-12.00</td>\n",
       "      <td>0.000490</td>\n",
       "      <td>0.0180</td>\n",
       "      <td>-12.00</td>\n",
       "      <td>-12.00</td>\n",
       "      <td>-12.00</td>\n",
       "      <td>1335.0</td>\n",
       "      <td>16.0</td>\n",
       "      <td>1.0</td>\n",
       "    </tr>\n",
       "    <tr>\n",
       "      <th>log_lik[2]</th>\n",
       "      <td>-45.00</td>\n",
       "      <td>0.001300</td>\n",
       "      <td>0.0490</td>\n",
       "      <td>-45.00</td>\n",
       "      <td>-45.00</td>\n",
       "      <td>-45.00</td>\n",
       "      <td>1335.0</td>\n",
       "      <td>16.0</td>\n",
       "      <td>1.0</td>\n",
       "    </tr>\n",
       "    <tr>\n",
       "      <th>log_lik[3]</th>\n",
       "      <td>-51.00</td>\n",
       "      <td>0.001500</td>\n",
       "      <td>0.0550</td>\n",
       "      <td>-52.00</td>\n",
       "      <td>-51.00</td>\n",
       "      <td>-51.00</td>\n",
       "      <td>1335.0</td>\n",
       "      <td>16.0</td>\n",
       "      <td>1.0</td>\n",
       "    </tr>\n",
       "    <tr>\n",
       "      <th>...</th>\n",
       "      <td>...</td>\n",
       "      <td>...</td>\n",
       "      <td>...</td>\n",
       "      <td>...</td>\n",
       "      <td>...</td>\n",
       "      <td>...</td>\n",
       "      <td>...</td>\n",
       "      <td>...</td>\n",
       "      <td>...</td>\n",
       "    </tr>\n",
       "    <tr>\n",
       "      <th>y_sim[2977]</th>\n",
       "      <td>39.00</td>\n",
       "      <td>0.100000</td>\n",
       "      <td>6.3000</td>\n",
       "      <td>29.00</td>\n",
       "      <td>39.00</td>\n",
       "      <td>50.00</td>\n",
       "      <td>3876.0</td>\n",
       "      <td>48.0</td>\n",
       "      <td>1.0</td>\n",
       "    </tr>\n",
       "    <tr>\n",
       "      <th>y_sim[2978]</th>\n",
       "      <td>25.00</td>\n",
       "      <td>0.081000</td>\n",
       "      <td>5.0000</td>\n",
       "      <td>17.00</td>\n",
       "      <td>24.00</td>\n",
       "      <td>33.00</td>\n",
       "      <td>3873.0</td>\n",
       "      <td>48.0</td>\n",
       "      <td>1.0</td>\n",
       "    </tr>\n",
       "    <tr>\n",
       "      <th>y_sim[2979]</th>\n",
       "      <td>39.00</td>\n",
       "      <td>0.100000</td>\n",
       "      <td>6.2000</td>\n",
       "      <td>29.00</td>\n",
       "      <td>39.00</td>\n",
       "      <td>49.00</td>\n",
       "      <td>3675.0</td>\n",
       "      <td>45.0</td>\n",
       "      <td>1.0</td>\n",
       "    </tr>\n",
       "    <tr>\n",
       "      <th>y_sim[2980]</th>\n",
       "      <td>55.00</td>\n",
       "      <td>0.120000</td>\n",
       "      <td>7.5000</td>\n",
       "      <td>43.00</td>\n",
       "      <td>55.00</td>\n",
       "      <td>67.00</td>\n",
       "      <td>3867.0</td>\n",
       "      <td>48.0</td>\n",
       "      <td>1.0</td>\n",
       "    </tr>\n",
       "    <tr>\n",
       "      <th>y_sim[2981]</th>\n",
       "      <td>52.00</td>\n",
       "      <td>0.120000</td>\n",
       "      <td>7.3000</td>\n",
       "      <td>40.00</td>\n",
       "      <td>52.00</td>\n",
       "      <td>64.00</td>\n",
       "      <td>3700.0</td>\n",
       "      <td>46.0</td>\n",
       "      <td>1.0</td>\n",
       "    </tr>\n",
       "  </tbody>\n",
       "</table>\n",
       "<p>5964 rows × 9 columns</p>\n",
       "</div>"
      ],
      "text/plain": [
       "                  Mean      MCSE  StdDev         5%        50%        95%  \\\n",
       "name                                                                        \n",
       "lp__         370000.00  0.016000  0.7500  370000.00  370000.00  370000.00   \n",
       "lambda            0.65  0.000051  0.0019       0.65       0.65       0.66   \n",
       "log_lik[1]      -12.00  0.000490  0.0180     -12.00     -12.00     -12.00   \n",
       "log_lik[2]      -45.00  0.001300  0.0490     -45.00     -45.00     -45.00   \n",
       "log_lik[3]      -51.00  0.001500  0.0550     -52.00     -51.00     -51.00   \n",
       "...                ...       ...     ...        ...        ...        ...   \n",
       "y_sim[2977]      39.00  0.100000  6.3000      29.00      39.00      50.00   \n",
       "y_sim[2978]      25.00  0.081000  5.0000      17.00      24.00      33.00   \n",
       "y_sim[2979]      39.00  0.100000  6.2000      29.00      39.00      49.00   \n",
       "y_sim[2980]      55.00  0.120000  7.5000      43.00      55.00      67.00   \n",
       "y_sim[2981]      52.00  0.120000  7.3000      40.00      52.00      64.00   \n",
       "\n",
       "              N_Eff  N_Eff/s  R_hat  \n",
       "name                                 \n",
       "lp__         2300.0     28.0    1.0  \n",
       "lambda       1300.0     16.0    1.0  \n",
       "log_lik[1]   1335.0     16.0    1.0  \n",
       "log_lik[2]   1335.0     16.0    1.0  \n",
       "log_lik[3]   1335.0     16.0    1.0  \n",
       "...             ...      ...    ...  \n",
       "y_sim[2977]  3876.0     48.0    1.0  \n",
       "y_sim[2978]  3873.0     48.0    1.0  \n",
       "y_sim[2979]  3675.0     45.0    1.0  \n",
       "y_sim[2980]  3867.0     48.0    1.0  \n",
       "y_sim[2981]  3700.0     46.0    1.0  \n",
       "\n",
       "[5964 rows x 9 columns]"
      ]
     },
     "execution_count": 28,
     "metadata": {},
     "output_type": "execute_result"
    }
   ],
   "source": [
    "samples2_post_black.summary()"
   ]
  },
  {
   "cell_type": "code",
   "execution_count": 29,
   "metadata": {},
   "outputs": [],
   "source": [
    "lambda2_post_white = samples2_post_white.stan_variable('lambda')\n",
    "y_sim2_post_white = samples2_post_white.stan_variable('y_sim')\n",
    "\n",
    "lambda2_post_black = samples2_post_black.stan_variable('lambda')\n",
    "y_sim2_post_black = samples2_post_black.stan_variable('y_sim')"
   ]
  },
  {
   "cell_type": "code",
   "execution_count": 30,
   "metadata": {},
   "outputs": [
    {
     "data": {
      "image/png": "[encoded data removed]",
      "text/plain": [
       "<Figure size 1080x720 with 4 Axes>"
      ]
     },
     "metadata": {
      "needs_background": "light"
     },
     "output_type": "display_data"
    }
   ],
   "source": [
    "fig, axes = plt.subplots(2, 2, figsize=(15,10))\n",
    "\n",
    "ax1 = axes[0][0]\n",
    "ax1.hist(lambda2_post_white, bins='auto')\n",
    "ax1.set_yticks([])\n",
    "ax1.set_title('Lambda posterior- white')\n",
    "ax1.grid()\n",
    "\n",
    "ax2 = axes[0][1]\n",
    "ax2.hist(lambda2_post_black, bins='auto', color='k')\n",
    "ax2.set_yticks([])\n",
    "ax2.set_title('Lambda posterior- black')\n",
    "ax2.grid()\n",
    "\n",
    "ax3 = axes[1][0]\n",
    "ax3.hist(y_sim2_post_white.flatten(), bins=20)\n",
    "ax3.set_xlim([0,300])\n",
    "ax3.set_yticks([])\n",
    "ax3.set_title('Openings used posterior- white')\n",
    "ax3.grid()\n",
    "\n",
    "ax4 = axes[1][1]\n",
    "ax4.hist(y_sim2_post_black.flatten(), bins=20, color='k')\n",
    "ax4.set_xlim([0,300])\n",
    "ax4.set_yticks([])\n",
    "ax4.set_title('Openings used posterior- black')\n",
    "ax4.grid()\n",
    "plt.show()"
   ]
  },
  {
   "cell_type": "markdown",
   "metadata": {},
   "source": [
    "**Prediction**\n",
    "\n",
    "The prepared model predicted that mostly used will be openings in the interval between 6 and 83. Comparing this to the distribution of the usage of openings it reflects the data. As we can see on the chart of openings used with the result of a game- mate we can see that the concetration of the openings used is in the predicted interval. Also, the large usage of the first openings has influence on the model.\n",
    "\n",
    "The predicted interval was also compared with the specific number of openings used between codes 6 and 83. We can observe that in this interval the openings were widely used and the opening 83 was used only in 3 games, what is observable on the histogram of predicted y and on the plot of the data for the result- mate."
   ]
  },
  {
   "cell_type": "code",
   "execution_count": 31,
   "metadata": {},
   "outputs": [
    {
     "name": "stdout",
     "output_type": "stream",
     "text": [
      "Median of predicted openings for white pawns = 45.0\n",
      "Confidence interval = [ 6.0 86.0 ]\n"
     ]
    }
   ],
   "source": [
    "median_y_sim_white = np.median(y_sim2_post_white.flatten())\n",
    "cinf_y_sim_white = az.hdi(y_sim2_post_white.flatten(),0.89)\n",
    "\n",
    "print('Median of predicted openings for white pawns =',median_y_sim_white)\n",
    "print('Confidence interval = [',*cinf_y_sim_white,']')"
   ]
  },
  {
   "cell_type": "code",
   "execution_count": 32,
   "metadata": {},
   "outputs": [
    {
     "name": "stdout",
     "output_type": "stream",
     "text": [
      "Median of predicted openings for white pawns = 41.0\n",
      "Confidence interval = [ 10.0 78.0 ]\n"
     ]
    }
   ],
   "source": [
    "median_y_sim_black = np.median(y_sim2_post_black.flatten())\n",
    "cinf_y_sim_black = az.hdi(y_sim2_post_black.flatten(),0.89)\n",
    "\n",
    "print('Median of predicted openings for white pawns =',median_y_sim_black)\n",
    "print('Confidence interval = [',*cinf_y_sim_black,']')"
   ]
  },
  {
   "cell_type": "markdown",
   "metadata": {},
   "source": [
    "# <center>**Model Comparision**</center>"
   ]
  },
  {
   "cell_type": "markdown",
   "metadata": {},
   "source": [
    "**Loo and waic comparision of 2 models for white pawns**"
   ]
  },
  {
   "cell_type": "code",
   "execution_count": 33,
   "metadata": {},
   "outputs": [],
   "source": [
    "arviz_model_1_white = az.from_cmdstanpy(\n",
    "    posterior=samples1_post_white,\n",
    "    posterior_predictive=\"y_sim\",\n",
    "    log_likelihood=\"log_lik\",\n",
    ")\n",
    "\n",
    "arviz_model_2_white = az.from_cmdstanpy(\n",
    "    posterior=samples2_post_white,\n",
    "    posterior_predictive=\"y_sim\",\n",
    "    log_likelihood=\"log_lik\",\n",
    ")"
   ]
  },
  {
   "cell_type": "code",
   "execution_count": 34,
   "metadata": {},
   "outputs": [
    {
     "data": {
      "text/html": [
       "<div>\n",
       "<style scoped>\n",
       "    .dataframe tbody tr th:only-of-type {\n",
       "        vertical-align: middle;\n",
       "    }\n",
       "\n",
       "    .dataframe tbody tr th {\n",
       "        vertical-align: top;\n",
       "    }\n",
       "\n",
       "    .dataframe thead th {\n",
       "        text-align: right;\n",
       "    }\n",
       "</style>\n",
       "<table border=\"1\" class=\"dataframe\">\n",
       "  <thead>\n",
       "    <tr style=\"text-align: right;\">\n",
       "      <th></th>\n",
       "      <th>rank</th>\n",
       "      <th>loo</th>\n",
       "      <th>p_loo</th>\n",
       "      <th>d_loo</th>\n",
       "      <th>weight</th>\n",
       "      <th>se</th>\n",
       "      <th>dse</th>\n",
       "      <th>warning</th>\n",
       "      <th>loo_scale</th>\n",
       "    </tr>\n",
       "  </thead>\n",
       "  <tbody>\n",
       "    <tr>\n",
       "      <th>model1</th>\n",
       "      <td>0</td>\n",
       "      <td>-104320.349205</td>\n",
       "      <td>66.902139</td>\n",
       "      <td>0.000000</td>\n",
       "      <td>0.641807</td>\n",
       "      <td>2307.980306</td>\n",
       "      <td>0.00000</td>\n",
       "      <td>False</td>\n",
       "      <td>log</td>\n",
       "    </tr>\n",
       "    <tr>\n",
       "      <th>model2</th>\n",
       "      <td>1</td>\n",
       "      <td>-639625.038269</td>\n",
       "      <td>119.039433</td>\n",
       "      <td>535304.689064</td>\n",
       "      <td>0.358193</td>\n",
       "      <td>15691.666372</td>\n",
       "      <td>14081.49241</td>\n",
       "      <td>False</td>\n",
       "      <td>log</td>\n",
       "    </tr>\n",
       "  </tbody>\n",
       "</table>\n",
       "</div>"
      ],
      "text/plain": [
       "        rank            loo       p_loo          d_loo    weight  \\\n",
       "model1     0 -104320.349205   66.902139       0.000000  0.641807   \n",
       "model2     1 -639625.038269  119.039433  535304.689064  0.358193   \n",
       "\n",
       "                  se          dse  warning loo_scale  \n",
       "model1   2307.980306      0.00000    False       log  \n",
       "model2  15691.666372  14081.49241    False       log  "
      ]
     },
     "execution_count": 34,
     "metadata": {},
     "output_type": "execute_result"
    }
   ],
   "source": [
    "compare_dict_white = {'model1' : arviz_model_1_white, 'model2' : arviz_model_2_white}\n",
    "loo_white = az.compare(compare_dict_white, ic = 'loo')\n",
    "loo_white"
   ]
  },
  {
   "cell_type": "code",
   "execution_count": 35,
   "metadata": {},
   "outputs": [
    {
     "data": {
      "text/plain": [
       "<AxesSubplot:xlabel='Log'>"
      ]
     },
     "execution_count": 35,
     "metadata": {},
     "output_type": "execute_result"
    },
    {
     "data": {
      "image/png": "[encoded data removed]",
      "text/plain": [
       "<Figure size 432x144 with 1 Axes>"
      ]
     },
     "metadata": {
      "needs_background": "light"
     },
     "output_type": "display_data"
    }
   ],
   "source": [
    "az.plot_compare(loo_white)"
   ]
  },
  {
   "cell_type": "code",
   "execution_count": 40,
   "metadata": {},
   "outputs": [
    {
     "data": {
      "image/png": "[encoded data removed]",
      "text/plain": [
       "<Figure size 432x144 with 1 Axes>"
      ]
     },
     "metadata": {
      "needs_background": "light"
     },
     "output_type": "display_data"
    }
   ],
   "source": [
    "az.plot_compare(loo_white)\n",
    "plt.xlim(-120000,-100000)\n",
    "plt.show()"
   ]
  },
  {
   "cell_type": "code",
   "execution_count": 41,
   "metadata": {},
   "outputs": [
    {
     "name": "stderr",
     "output_type": "stream",
     "text": [
      "D:\\anaconda3\\lib\\site-packages\\arviz\\stats\\stats.py:1458: UserWarning: For one or more samples the posterior variance of the log predictive densities exceeds 0.4. This could be indication of WAIC starting to fail. \n",
      "See http://arxiv.org/abs/1507.04544 for details\n",
      "  warnings.warn(\n",
      "D:\\anaconda3\\lib\\site-packages\\arviz\\stats\\stats.py:1458: UserWarning: For one or more samples the posterior variance of the log predictive densities exceeds 0.4. This could be indication of WAIC starting to fail. \n",
      "See http://arxiv.org/abs/1507.04544 for details\n",
      "  warnings.warn(\n"
     ]
    },
    {
     "data": {
      "text/html": [
       "<div>\n",
       "<style scoped>\n",
       "    .dataframe tbody tr th:only-of-type {\n",
       "        vertical-align: middle;\n",
       "    }\n",
       "\n",
       "    .dataframe tbody tr th {\n",
       "        vertical-align: top;\n",
       "    }\n",
       "\n",
       "    .dataframe thead th {\n",
       "        text-align: right;\n",
       "    }\n",
       "</style>\n",
       "<table border=\"1\" class=\"dataframe\">\n",
       "  <thead>\n",
       "    <tr style=\"text-align: right;\">\n",
       "      <th></th>\n",
       "      <th>rank</th>\n",
       "      <th>waic</th>\n",
       "      <th>p_waic</th>\n",
       "      <th>d_waic</th>\n",
       "      <th>weight</th>\n",
       "      <th>se</th>\n",
       "      <th>dse</th>\n",
       "      <th>warning</th>\n",
       "      <th>waic_scale</th>\n",
       "    </tr>\n",
       "  </thead>\n",
       "  <tbody>\n",
       "    <tr>\n",
       "      <th>model1</th>\n",
       "      <td>0</td>\n",
       "      <td>-104320.335943</td>\n",
       "      <td>66.888877</td>\n",
       "      <td>0.000000</td>\n",
       "      <td>0.641807</td>\n",
       "      <td>2307.979174</td>\n",
       "      <td>0.00000</td>\n",
       "      <td>True</td>\n",
       "      <td>log</td>\n",
       "    </tr>\n",
       "    <tr>\n",
       "      <th>model2</th>\n",
       "      <td>1</td>\n",
       "      <td>-639625.105239</td>\n",
       "      <td>119.106404</td>\n",
       "      <td>535304.769297</td>\n",
       "      <td>0.358193</td>\n",
       "      <td>15691.670459</td>\n",
       "      <td>14081.49698</td>\n",
       "      <td>True</td>\n",
       "      <td>log</td>\n",
       "    </tr>\n",
       "  </tbody>\n",
       "</table>\n",
       "</div>"
      ],
      "text/plain": [
       "        rank           waic      p_waic         d_waic    weight  \\\n",
       "model1     0 -104320.335943   66.888877       0.000000  0.641807   \n",
       "model2     1 -639625.105239  119.106404  535304.769297  0.358193   \n",
       "\n",
       "                  se          dse  warning waic_scale  \n",
       "model1   2307.979174      0.00000     True        log  \n",
       "model2  15691.670459  14081.49698     True        log  "
      ]
     },
     "execution_count": 41,
     "metadata": {},
     "output_type": "execute_result"
    }
   ],
   "source": [
    "waic_white = az.compare(compare_dict_white, ic = 'waic')\n",
    "waic_white"
   ]
  },
  {
   "cell_type": "code",
   "execution_count": 42,
   "metadata": {},
   "outputs": [
    {
     "data": {
      "text/plain": [
       "<AxesSubplot:xlabel='Log'>"
      ]
     },
     "execution_count": 42,
     "metadata": {},
     "output_type": "execute_result"
    },
    {
     "data": {
      "image/png": "[encoded data removed]",
      "text/plain": [
       "<Figure size 432x144 with 1 Axes>"
      ]
     },
     "metadata": {
      "needs_background": "light"
     },
     "output_type": "display_data"
    }
   ],
   "source": [
    "az.plot_compare(waic_white)"
   ]
  },
  {
   "cell_type": "code",
   "execution_count": 43,
   "metadata": {},
   "outputs": [
    {
     "data": {
      "text/plain": [
       "(-120000.0, -100000.0)"
      ]
     },
     "execution_count": 43,
     "metadata": {},
     "output_type": "execute_result"
    },
    {
     "data": {
      "image/png": "[encoded data removed]",
      "text/plain": [
       "<Figure size 432x144 with 1 Axes>"
      ]
     },
     "metadata": {
      "needs_background": "light"
     },
     "output_type": "display_data"
    }
   ],
   "source": [
    "az.plot_compare(waic_white)\n",
    "plt.xlim(-120000,-100000)"
   ]
  },
  {
   "cell_type": "markdown",
   "metadata": {},
   "source": [
    "**Loo and waic comparision of 2 models for black pawns**"
   ]
  },
  {
   "cell_type": "code",
   "execution_count": 44,
   "metadata": {},
   "outputs": [],
   "source": [
    "arviz_model_1_black = az.from_cmdstanpy(\n",
    "    posterior=samples1_post_black,\n",
    "    posterior_predictive=\"y_sim\",\n",
    "    log_likelihood=\"log_lik\",\n",
    ")\n",
    "\n",
    "arviz_model_2_black = az.from_cmdstanpy(\n",
    "    posterior=samples2_post_black,\n",
    "    posterior_predictive=\"y_sim\",\n",
    "    log_likelihood=\"log_lik\",\n",
    ")"
   ]
  },
  {
   "cell_type": "code",
   "execution_count": 45,
   "metadata": {},
   "outputs": [
    {
     "data": {
      "text/html": [
       "<div>\n",
       "<style scoped>\n",
       "    .dataframe tbody tr th:only-of-type {\n",
       "        vertical-align: middle;\n",
       "    }\n",
       "\n",
       "    .dataframe tbody tr th {\n",
       "        vertical-align: top;\n",
       "    }\n",
       "\n",
       "    .dataframe thead th {\n",
       "        text-align: right;\n",
       "    }\n",
       "</style>\n",
       "<table border=\"1\" class=\"dataframe\">\n",
       "  <thead>\n",
       "    <tr style=\"text-align: right;\">\n",
       "      <th></th>\n",
       "      <th>rank</th>\n",
       "      <th>loo</th>\n",
       "      <th>p_loo</th>\n",
       "      <th>d_loo</th>\n",
       "      <th>weight</th>\n",
       "      <th>se</th>\n",
       "      <th>dse</th>\n",
       "      <th>warning</th>\n",
       "      <th>loo_scale</th>\n",
       "    </tr>\n",
       "  </thead>\n",
       "  <tbody>\n",
       "    <tr>\n",
       "      <th>model1</th>\n",
       "      <td>0</td>\n",
       "      <td>-86886.664257</td>\n",
       "      <td>65.661389</td>\n",
       "      <td>0.000000</td>\n",
       "      <td>0.640121</td>\n",
       "      <td>2113.731318</td>\n",
       "      <td>0.000000</td>\n",
       "      <td>False</td>\n",
       "      <td>log</td>\n",
       "    </tr>\n",
       "    <tr>\n",
       "      <th>model2</th>\n",
       "      <td>1</td>\n",
       "      <td>-524953.975183</td>\n",
       "      <td>117.967044</td>\n",
       "      <td>438067.310926</td>\n",
       "      <td>0.359879</td>\n",
       "      <td>14111.152527</td>\n",
       "      <td>12554.511885</td>\n",
       "      <td>False</td>\n",
       "      <td>log</td>\n",
       "    </tr>\n",
       "  </tbody>\n",
       "</table>\n",
       "</div>"
      ],
      "text/plain": [
       "        rank            loo       p_loo          d_loo    weight  \\\n",
       "model1     0  -86886.664257   65.661389       0.000000  0.640121   \n",
       "model2     1 -524953.975183  117.967044  438067.310926  0.359879   \n",
       "\n",
       "                  se           dse  warning loo_scale  \n",
       "model1   2113.731318      0.000000    False       log  \n",
       "model2  14111.152527  12554.511885    False       log  "
      ]
     },
     "execution_count": 45,
     "metadata": {},
     "output_type": "execute_result"
    }
   ],
   "source": [
    "compare_dict_black = {'model1' : arviz_model_1_black, 'model2' : arviz_model_2_black}\n",
    "loo_black = az.compare(compare_dict_black, ic = 'loo')\n",
    "loo_black"
   ]
  },
  {
   "cell_type": "code",
   "execution_count": 46,
   "metadata": {},
   "outputs": [
    {
     "data": {
      "text/plain": [
       "<AxesSubplot:xlabel='Log'>"
      ]
     },
     "execution_count": 46,
     "metadata": {},
     "output_type": "execute_result"
    },
    {
     "data": {
      "image/png": "[encoded data removed]",
      "text/plain": [
       "<Figure size 432x144 with 1 Axes>"
      ]
     },
     "metadata": {
      "needs_background": "light"
     },
     "output_type": "display_data"
    }
   ],
   "source": [
    "az.plot_compare(loo_black)"
   ]
  },
  {
   "cell_type": "code",
   "execution_count": 47,
   "metadata": {},
   "outputs": [
    {
     "data": {
      "text/plain": [
       "(-120000.0, -80000.0)"
      ]
     },
     "execution_count": 47,
     "metadata": {},
     "output_type": "execute_result"
    },
    {
     "data": {
      "image/png": "[encoded data removed]",
      "text/plain": [
       "<Figure size 432x144 with 1 Axes>"
      ]
     },
     "metadata": {
      "needs_background": "light"
     },
     "output_type": "display_data"
    }
   ],
   "source": [
    "az.plot_compare(loo_black)\n",
    "plt.xlim(-120000,-80000)"
   ]
  },
  {
   "cell_type": "code",
   "execution_count": 48,
   "metadata": {},
   "outputs": [
    {
     "name": "stderr",
     "output_type": "stream",
     "text": [
      "D:\\anaconda3\\lib\\site-packages\\arviz\\stats\\stats.py:1458: UserWarning: For one or more samples the posterior variance of the log predictive densities exceeds 0.4. This could be indication of WAIC starting to fail. \n",
      "See http://arxiv.org/abs/1507.04544 for details\n",
      "  warnings.warn(\n",
      "D:\\anaconda3\\lib\\site-packages\\arviz\\stats\\stats.py:1458: UserWarning: For one or more samples the posterior variance of the log predictive densities exceeds 0.4. This could be indication of WAIC starting to fail. \n",
      "See http://arxiv.org/abs/1507.04544 for details\n",
      "  warnings.warn(\n"
     ]
    },
    {
     "data": {
      "text/html": [
       "<div>\n",
       "<style scoped>\n",
       "    .dataframe tbody tr th:only-of-type {\n",
       "        vertical-align: middle;\n",
       "    }\n",
       "\n",
       "    .dataframe tbody tr th {\n",
       "        vertical-align: top;\n",
       "    }\n",
       "\n",
       "    .dataframe thead th {\n",
       "        text-align: right;\n",
       "    }\n",
       "</style>\n",
       "<table border=\"1\" class=\"dataframe\">\n",
       "  <thead>\n",
       "    <tr style=\"text-align: right;\">\n",
       "      <th></th>\n",
       "      <th>rank</th>\n",
       "      <th>waic</th>\n",
       "      <th>p_waic</th>\n",
       "      <th>d_waic</th>\n",
       "      <th>weight</th>\n",
       "      <th>se</th>\n",
       "      <th>dse</th>\n",
       "      <th>warning</th>\n",
       "      <th>waic_scale</th>\n",
       "    </tr>\n",
       "  </thead>\n",
       "  <tbody>\n",
       "    <tr>\n",
       "      <th>model1</th>\n",
       "      <td>0</td>\n",
       "      <td>-86886.726513</td>\n",
       "      <td>65.723645</td>\n",
       "      <td>0.000000</td>\n",
       "      <td>0.640121</td>\n",
       "      <td>2113.737908</td>\n",
       "      <td>0.000000</td>\n",
       "      <td>True</td>\n",
       "      <td>log</td>\n",
       "    </tr>\n",
       "    <tr>\n",
       "      <th>model2</th>\n",
       "      <td>1</td>\n",
       "      <td>-524954.002682</td>\n",
       "      <td>117.994543</td>\n",
       "      <td>438067.276169</td>\n",
       "      <td>0.359879</td>\n",
       "      <td>14111.154864</td>\n",
       "      <td>12554.509496</td>\n",
       "      <td>True</td>\n",
       "      <td>log</td>\n",
       "    </tr>\n",
       "  </tbody>\n",
       "</table>\n",
       "</div>"
      ],
      "text/plain": [
       "        rank           waic      p_waic         d_waic    weight  \\\n",
       "model1     0  -86886.726513   65.723645       0.000000  0.640121   \n",
       "model2     1 -524954.002682  117.994543  438067.276169  0.359879   \n",
       "\n",
       "                  se           dse  warning waic_scale  \n",
       "model1   2113.737908      0.000000     True        log  \n",
       "model2  14111.154864  12554.509496     True        log  "
      ]
     },
     "execution_count": 48,
     "metadata": {},
     "output_type": "execute_result"
    }
   ],
   "source": [
    "waic_black = az.compare(compare_dict_black, ic = 'waic')\n",
    "waic_black"
   ]
  },
  {
   "cell_type": "code",
   "execution_count": 49,
   "metadata": {},
   "outputs": [
    {
     "data": {
      "text/plain": [
       "<AxesSubplot:xlabel='Log'>"
      ]
     },
     "execution_count": 49,
     "metadata": {},
     "output_type": "execute_result"
    },
    {
     "data": {
      "image/png": "[encoded data removed]",
      "text/plain": [
       "<Figure size 432x144 with 1 Axes>"
      ]
     },
     "metadata": {
      "needs_background": "light"
     },
     "output_type": "display_data"
    }
   ],
   "source": [
    "az.plot_compare(waic_black)"
   ]
  },
  {
   "cell_type": "code",
   "execution_count": 50,
   "metadata": {},
   "outputs": [
    {
     "data": {
      "text/plain": [
       "(-120000.0, -80000.0)"
      ]
     },
     "execution_count": 50,
     "metadata": {},
     "output_type": "execute_result"
    },
    {
     "data": {
      "image/png": "[encoded data removed]",
      "text/plain": [
       "<Figure size 432x144 with 1 Axes>"
      ]
     },
     "metadata": {
      "needs_background": "light"
     },
     "output_type": "display_data"
    }
   ],
   "source": [
    "az.plot_compare(waic_black)\n",
    "plt.xlim(-120000,-80000)"
   ]
  },
  {
   "cell_type": "markdown",
   "metadata": {},
   "source": [
    "**Conclusion**\n",
    "\n",
    "Based on the loo comparison for both white and black pawns, the rank of the model 1 is lower. This means that this model better fits the data. But the weight column for both cases shows that second model is better suited for the problem of predicting chess openings.\n",
    "As we can see in predictions for both models the predicted intervals are quite similiar to most used opennings games which were analyzed. The most used openning games in analyzed games are placed in intervals between 1 to about 87 wchich is met with prediction results. "
   ]
  }
 ],
 "metadata": {
  "interpreter": {
   "hash": "11b62bf50b2fc07333d88d19db8c53111fef48a5f5c7617840bb156f3a3320cb"
  },
  "kernelspec": {
   "display_name": "Python 3.8.5 ('base')",
   "language": "python",
   "name": "python3"
  },
  "language_info": {
   "codemirror_mode": {
    "name": "ipython",
    "version": 3
   },
   "file_extension": ".py",
   "mimetype": "text/x-python",
   "name": "python",
   "nbconvert_exporter": "python",
   "pygments_lexer": "ipython3",
   "version": "3.9.7"
  },
  "orig_nbformat": 4
 },
 "nbformat": 4,
 "nbformat_minor": 2
}
